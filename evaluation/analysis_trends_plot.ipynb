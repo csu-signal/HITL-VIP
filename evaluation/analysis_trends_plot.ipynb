{
  "cells": [
    {
      "cell_type": "code",
      "execution_count": 1,
      "metadata": {
        "id": "kpXPDDW77bYL"
      },
      "outputs": [],
      "source": [
        "import pandas as pd\n",
        "import numpy as np\n",
        "\n",
        "import matplotlib.pyplot as plt\n",
        "\n",
        "from matplotlib.lines import Line2D\n"
      ]
    },
    {
      "cell_type": "code",
      "execution_count": null,
      "metadata": {
        "colab": {
          "base_uri": "https://localhost:8080/"
        },
        "id": "HKj-nc4Z7kTq",
        "outputId": "475033b1-5431-455a-8833-61f99e648dbb"
      },
      "outputs": [],
      "source": []
    },
    {
      "cell_type": "code",
      "execution_count": 3,
      "metadata": {
        "id": "e0h5HuUA7rFc"
      },
      "outputs": [],
      "source": []
    },
    {
      "cell_type": "code",
      "execution_count": 4,
      "metadata": {
        "id": "Xvmqiw2372qC"
      },
      "outputs": [],
      "source": [
        "path = '<path to trends data>'\n"
      ]
    },
    {
      "cell_type": "code",
      "execution_count": 5,
      "metadata": {
        "id": "c6m6ki3Q-Rt0"
      },
      "outputs": [],
      "source": [
        "def get_assistant_name(name: str):\n",
        "\n",
        "    assistant_name = name.split(\"_assistant_\")\n",
        "\n",
        "    if len(assistant_name) == 1:\n",
        "        return 'None'\n",
        "    else:\n",
        "        assistant_name = assistant_name[1]\n",
        "\n",
        "        for typ in ['mlp', 'lstm', 'rnn', 'gru', 'sac', 'ddpg']:\n",
        "            if typ in assistant_name :\n",
        "                return typ.upper()\n",
        "\n",
        "        return 'unknown'\n",
        "\n",
        "\n",
        "def get_assistant_specialized_name(name: str):\n",
        "\n",
        "    assistant_name = name.split(\"_assistant_\")\n",
        "\n",
        "    if len(assistant_name) == 1:\n",
        "        return 'None'\n",
        "    else:\n",
        "        assistant_name = assistant_name[1]\n",
        "        if 'assistant' not in assistant_name:\n",
        "            if 'penalizeDeflection' in assistant_name:\n",
        "                return assistant_name.split('_')[0].upper()\n",
        "            else:\n",
        "                assistant_name = assistant_name.split('_')\n",
        "                return f\"{assistant_name[0]}-{assistant_name[1]}\".upper()\n",
        "\n",
        "        else:\n",
        "            assistant_name= assistant_name.removeprefix('assistant_mars_')\n",
        "            name = assistant_name.split('_', maxsplit=1)[0]\n",
        "            if 'all_prof' in assistant_name:\n",
        "                name += '-GMB'\n",
        "            elif 'good_med' in assistant_name:\n",
        "                name += '-GM'\n",
        "            elif 'good' in assistant_name:\n",
        "                name += '-G'\n",
        "            elif 'med' in assistant_name:\n",
        "                name += '-M'\n",
        "            elif 'bad' in assistant_name:\n",
        "                name += '-B'\n",
        "\n",
        "            if 'small_window' in assistant_name:\n",
        "                name += '-0.2'\n",
        "            elif 'small_window_future' in assistant_name:\n",
        "                name += '-0.3'\n",
        "            elif 'mlp' in assistant_name and 'window' not in assistant_name:\n",
        "                name += '-0'\n",
        "            else:\n",
        "                name += '-0.5'\n",
        "\n",
        "            return name.upper()\n"
      ]
    },
    {
      "cell_type": "code",
      "execution_count": null,
      "metadata": {
        "colab": {
          "base_uri": "https://localhost:8080/",
          "height": 1000
        },
        "id": "7imoaj3W9UAt",
        "outputId": "cfe3c380-47ba-4274-9460-d087c28789ac"
      },
      "outputs": [],
      "source": [
        "\n",
        "profs = ['good', 'med', 'bad']\n",
        "datas = ['vip', 'mars']\n",
        "\n",
        "# profs = ['good']\n",
        "# datas=['mars']\n",
        "\n",
        "columns = {\n",
        " '# crashes': 'Crashes',\n",
        " '% destabilizing actions': '% destab.',\n",
        " 'Distance from DOB mean': 'μ|θ|',\n",
        " 'Angular position SD': 'σ(θ)',\n",
        " 'Velocity magnitude mean': 'μ|Mag|vel',\n",
        " 'Angular velocity SD': 'σ(|Mag|vel)',\n",
        " 'Velocity RMS': 'vel RMS',\n",
        " 'Deflection magnitude mean': 'μ|d| * 30'\n",
        "}\n",
        "\n",
        "assistant_order = ['None', 'MLP', 'RNN', 'LSTM', 'GRU', 'DDPG', 'SAC']\n",
        "\n",
        "best_assistant_per_pilot = []\n",
        "worst_assistant_per_pilot = []\n",
        "\n",
        "for prof in profs:\n",
        "    for data in datas:\n",
        "\n",
        "        # reading diff file\n",
        "        fname = f\"{path}/{prof}_{data}_analysis_output_diff.csv\"\n",
        "        diff_data = pd.read_csv(fname)\n",
        "\n",
        "        # multiply mean deflection magnitude\n",
        "        diff_data['Deflection magnitude mean'] = diff_data['Deflection magnitude mean'] * 30\n",
        "\n",
        "        # getting assistant type and name\n",
        "        diff_data['assistant_type'] = diff_data['Name'].apply(get_assistant_name)\n",
        "        diff_data['specialized_type'] = diff_data['Name'].apply(get_assistant_specialized_name)\n",
        "\n",
        "\n",
        "        # formatting data to plot metrics averaged over arch type\n",
        "        averaged_data_by_type = diff_data.groupby('assistant_type').mean(numeric_only=True)\n",
        "        averaged_data_by_type['assistant_type'] = averaged_data_by_type.index\n",
        "        averaged_data_by_type['order'] = averaged_data_by_type['assistant_type'].apply(lambda x: assistant_order.index(x))\n",
        "        averaged_data_by_type = averaged_data_by_type.sort_values(['order'])\n",
        "\n",
        "        # plotting the above formatted data\n",
        "        plt.rcParams.update({'font.size': 32})\n",
        "        plt.figure(figsize=(20, 10), dpi=300)\n",
        "\n",
        "        figures = []\n",
        "        for col in columns:\n",
        "            markerInd = list(columns.keys()).index(col)\n",
        "            fig = plt.plot(averaged_data_by_type['assistant_type'], averaged_data_by_type[col],\n",
        "                        label=columns[col], markersize=20, linestyle='-.', marker=Line2D.filled_markers[markerInd])\n",
        "            figures.append(fig)\n",
        "\n",
        "        plt.xlabel('Assistant type')\n",
        "        plt.ylabel('Difference from unaided pilot')\n",
        "        plt.tight_layout()\n",
        "        plt.legend(loc='best', bbox_to_anchor=(1, 0.5, 0, 0.5))\n",
        "\n",
        "        plt.savefig(f\"{path}/{prof}_{data}_analysis_diff_average_type_plot.png\", dpi=300, bbox_inches='tight')\n",
        "\n",
        "\n",
        "        # getting the best model per arch type\n",
        "        sorted_diff_data = diff_data.sort_values(['# crashes', '% destabilizing actions', 'Distance from DOB mean'])\n",
        "        best_assistant_per_pilot.append(sorted_diff_data.values[0, 0])\n",
        "        best_assistants_filtered = sorted_diff_data.drop_duplicates('assistant_type')\n",
        "        best_assistants_filtered['order'] = best_assistants_filtered['assistant_type'].apply(lambda x: assistant_order.index(x))\n",
        "        best_assistants_filtered = best_assistants_filtered.sort_values(['order'])\n",
        "\n",
        "        #plotting metrics for the best model\n",
        "\n",
        "        plt.rcParams.update({'font.size': 32})\n",
        "        plt.figure(figsize=(20, 10), dpi=300)\n",
        "\n",
        "        figures = []\n",
        "        for col in columns:\n",
        "            markerInd = list(columns.keys()).index(col)\n",
        "            fig = plt.plot(best_assistants_filtered['specialized_type'], best_assistants_filtered[col],\n",
        "                        label=columns[col], markersize=20, linestyle='-.', marker=Line2D.filled_markers[markerInd])\n",
        "            figures.append(fig)\n",
        "\n",
        "        plt.xlabel('Assistant')\n",
        "        plt.ylabel('Difference from unaided pilot')\n",
        "        plt.xticks(rotation=20)\n",
        "\n",
        "        plt.tight_layout()\n",
        "        plt.legend(loc='best', bbox_to_anchor=(1, 0.5, 0, 0.5))\n",
        "\n",
        "        plt.savefig(f\"{path}/{prof}_{data}_analysis_diff_best_type_plot.png\", dpi=300, bbox_inches='tight')\n",
        "\n",
        "        # getting the worst model per arch type\n",
        "        sorted_diff_data = diff_data.sort_values(['# crashes', '% destabilizing actions', 'Distance from DOB mean'], ascending=False)\n",
        "        print(sorted_diff_data.Name.head())\n",
        "        worst_assistant_per_pilot.append((sorted_diff_data.values[0, 0], sorted_diff_data.values[1, 0]))\n",
        "        worst_assistants_filtered = sorted_diff_data.drop_duplicates('assistant_type')\n",
        "        worst_assistants_filtered['order'] = worst_assistants_filtered['assistant_type'].apply(lambda x: assistant_order.index(x))\n",
        "        worst_assistants_filtered = worst_assistants_filtered.sort_values(['order'])\n",
        "\n",
        "        #plotting metrics for the best model\n",
        "\n",
        "        plt.rcParams.update({'font.size': 32})\n",
        "        plt.figure(figsize=(20, 10), dpi=300)\n",
        "\n",
        "        figures = []\n",
        "        for col in columns:\n",
        "            markerInd = list(columns.keys()).index(col)\n",
        "            fig = plt.plot(worst_assistants_filtered['specialized_type'], worst_assistants_filtered[col],\n",
        "                        label=columns[col], markersize=20, linestyle='-.', marker=Line2D.filled_markers[markerInd])\n",
        "            figures.append(fig)\n",
        "\n",
        "        plt.xlabel('Assistant')\n",
        "        plt.ylabel('Difference from unaided pilot')\n",
        "        plt.xticks(rotation=20)\n",
        "\n",
        "        plt.tight_layout()\n",
        "        plt.legend(loc='best', bbox_to_anchor=(1, 0.5, 0, 0.5))\n",
        "\n",
        "        plt.savefig(f\"{path}/{prof}_{data}_analysis_diff_worst_type_plot.png\", dpi=300, bbox_inches='tight')"
      ]
    },
    {
      "cell_type": "code",
      "execution_count": 26,
      "metadata": {
        "colab": {
          "base_uri": "https://localhost:8080/"
        },
        "id": "hMcGCb0p7-70",
        "outputId": "db16d7f4-8fc3-4428-888b-7a3a6391cea5"
      },
      "outputs": [
        {
          "data": {
            "text/plain": [
              "['pilot_vip_lstm_good_small_window_assistant_sac_airl_300k',\n",
              " 'pilot_mars_lstm_good_small_window_assistant_assistant_mars_mlp_all_prof',\n",
              " 'pilot_vip_gru_med_small_window_future_assistant_sac_airl_300k',\n",
              " 'pilot_mars_gru_med_small_window_future_assistant_sac_airl_300k',\n",
              " 'pilot_vip_mlp_bad_window_assistant_sac_airl_300k',\n",
              " 'pilot_mars_mlp_bad_window_assistant_sac_penalizeDeflection']"
            ]
          },
          "execution_count": 26,
          "metadata": {},
          "output_type": "execute_result"
        }
      ],
      "source": [
        "best_assistant_per_pilot"
      ]
    },
    {
      "cell_type": "code",
      "execution_count": 27,
      "metadata": {
        "colab": {
          "base_uri": "https://localhost:8080/"
        },
        "id": "nSsFcJ818EvM",
        "outputId": "46092791-37fa-4bec-ef73-f29236baccb2"
      },
      "outputs": [
        {
          "data": {
            "text/plain": [
              "[('pilot_vip_lstm_good_small_window_assistant_assistant_mars_mlp_good_window',\n",
              "  'pilot_vip_lstm_good_small_window_assistant_assistant_mars_lstm_all_prof'),\n",
              " ('pilot_mars_lstm_good_small_window_assistant_assistant_mars_rnn_good_med',\n",
              "  'pilot_mars_lstm_good_small_window_assistant_assistant_mars_lstm_all_prof'),\n",
              " ('pilot_vip_gru_med_small_window_future',\n",
              "  'pilot_vip_gru_med_small_window_future_assistant_assistant_mars_rnn_all_prof'),\n",
              " ('pilot_mars_gru_med_small_window_future_assistant_assistant_mars_mlp_good_small_window_future',\n",
              "  'pilot_mars_gru_med_small_window_future_assistant_assistant_mars_lstm_good_small_window'),\n",
              " ('pilot_vip_mlp_bad_window_assistant_assistant_mars_mlp_good_window',\n",
              "  'pilot_vip_mlp_bad_window_assistant_assistant_mars_gru_good_small_window'),\n",
              " ('pilot_mars_mlp_bad_window',\n",
              "  'pilot_mars_mlp_bad_window_assistant_assistant_mars_rnn_good')]"
            ]
          },
          "execution_count": 27,
          "metadata": {},
          "output_type": "execute_result"
        }
      ],
      "source": [
        "worst_assistant_per_pilot"
      ]
    },
    {
      "cell_type": "code",
      "execution_count": null,
      "metadata": {
        "id": "YL9FLlig_5pU"
      },
      "outputs": [],
      "source": []
    }
  ],
  "metadata": {
    "colab": {
      "provenance": []
    },
    "kernelspec": {
      "display_name": "Python 3",
      "name": "python3"
    },
    "language_info": {
      "name": "python"
    }
  },
  "nbformat": 4,
  "nbformat_minor": 0
}
