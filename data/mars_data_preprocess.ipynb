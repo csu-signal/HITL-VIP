{
 "cells": [
  {
   "cell_type": "code",
   "execution_count": null,
   "metadata": {},
   "outputs": [],
   "source": [
    "import pandas as pd\n",
    "import numpy as np"
   ]
  },
  {
   "cell_type": "code",
   "execution_count": null,
   "metadata": {},
   "outputs": [],
   "source": [
    "data = pd.read_csv('./data_all.csv')"
   ]
  },
  {
   "cell_type": "code",
   "execution_count": null,
   "metadata": {},
   "outputs": [],
   "source": [
    "\n",
    "data['currentPosRollRadians'] = data['currentPosRoll'].apply(np.radians)\n",
    "data['currentVelRollRadians'] = data['currentVelRoll'].apply(np.radians)\n",
    "data\n",
    "data = data.drop(columns=['currentPosRoll', 'currentVelRoll', 'calculated_vel'])\n",
    "\n",
    "\n",
    "data = data[['seconds',\t'trialPhase', 'currentPosRollRadians', 'currentVelRollRadians','joystickX', 'peopleName', 'peopleTrialKey']]\n",
    "\n",
    "data"
   ]
  },
  {
   "cell_type": "code",
   "execution_count": null,
   "metadata": {},
   "outputs": [],
   "source": [
    "\n",
    "data.to_csv('./data_all_radians.csv', index=False)"
   ]
  }
 ],
 "metadata": {
  "language_info": {
   "name": "python"
  },
  "orig_nbformat": 4
 },
 "nbformat": 4,
 "nbformat_minor": 2
}
