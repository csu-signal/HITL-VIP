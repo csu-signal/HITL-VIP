{
 "cells": [
  {
   "cell_type": "markdown",
   "metadata": {},
   "source": [
    "Notebook is adapted from \n",
    "1. https://huggingface.co/blog/time-series-transformers \n",
    "2. https://github.com/huggingface/notebooks/blob/main/examples/time_series_datasets.ipynb"
   ]
  },
  {
   "cell_type": "markdown",
   "metadata": {
    "id": "allWIe5kwPcS"
   },
   "source": [
    "# Time Series Datasets\n",
    "\n",
    "This notebook shows how to create a time series dataset from some csv file in order to then share it on the [🤗 hub](https://huggingface.co/docs/datasets/index). We will use the GluonTS library to read the csv into the appropriate format. We start by installing the libraries"
   ]
  },
  {
   "cell_type": "code",
   "execution_count": 1,
   "metadata": {
    "id": "4XnNcdWbwrNo"
   },
   "outputs": [],
   "source": [
    "! pip install -q datasets gluonts orjson evaluate accelerate ujson transformers==4.31.0  "
   ]
  },
  {
   "cell_type": "markdown",
   "metadata": {
    "id": "dI1yo_vHw5CV"
   },
   "source": [
    "GluonTS comes with a pandas DataFrame based dataset so our strategy will be to read the csv file, and process it as a `PandasDataset`. We will then iterate over it and convert it to a 🤗 dataset with the appropriate schema for time series. So lets get started!\n",
    "\n",
    "## `PandasDataset`\n",
    "\n",
    "Suppose we are given multiple (10) time series stacked on top of each other in a dataframe with an `item_id` column that distinguishes different series:"
   ]
  },
  {
   "cell_type": "code",
   "execution_count": null,
   "metadata": {
    "colab": {
     "base_uri": "https://localhost:8080/",
     "height": 206
    },
    "id": "e9FaT_VpwuI2",
    "outputId": "8a10c908-41e1-4ca7-b420-01c0810c5c4b"
   },
   "outputs": [],
   "source": [
    "import sys\n",
    "\n",
    "sys.path.append(\"../\")\n",
    "\n",
    "import pandas as pd\n",
    "import json\n",
    "import matplotlib.pyplot as plt\n",
    "from tqdm import tqdm\n",
    "\n",
    "from utils.utils import *"
   ]
  },
  {
   "cell_type": "code",
   "execution_count": 3,
   "metadata": {},
   "outputs": [],
   "source": [
    "data_path = \"../data/\"\n",
    "\n",
    "\n",
    "data = pd.read_csv(f\"{data_path}data_all_radians.csv\")\n",
    "data[\"joystickX\"] = -1 * data[\"joystickX\"]\n",
    "\n",
    "proficiencies = pd.read_csv(f\"{data_path}overall_proficiency.csv\")\n",
    "\n",
    "training_parameters = None\n",
    "\n",
    "config_path = \"../configs/training/pilot_mars_informer_good_small_window_future.json\"\n",
    "\n",
    "with open(config_path, \"r\") as f:\n",
    "    config_json = json.load(f)\n",
    "    training_parameters = config_json[\"dl_training_parameters\"]\n",
    "\n",
    "\n",
    "ppts, ppt_data = filter_data_based_proficiency(\n",
    "    data, proficiencies, proficiency=training_parameters[\"proficiency\"]\n",
    ")\n",
    "\n",
    "\n",
    "# train_data, test_data = train_test_split_trials(ppt_data, ppts, train=training_parameters['train_fraction'])"
   ]
  },
  {
   "cell_type": "code",
   "execution_count": 4,
   "metadata": {},
   "outputs": [],
   "source": [
    "# created toy dataset for checking if it works\n",
    "\n",
    "ppt_data = ppt_data[\n",
    "    ppt_data[\"peopleTrialKey\"].isin(list(ppt_data.peopleTrialKey.unique())[:2])\n",
    "]"
   ]
  },
  {
   "cell_type": "code",
   "execution_count": 5,
   "metadata": {},
   "outputs": [
    {
     "data": {
      "text/plain": [
       "2"
      ]
     },
     "execution_count": 5,
     "metadata": {},
     "output_type": "execute_result"
    }
   ],
   "source": [
    "len(ppt_data.peopleTrialKey.unique())"
   ]
  },
  {
   "cell_type": "code",
   "execution_count": 6,
   "metadata": {},
   "outputs": [],
   "source": [
    "rolling_window_size = 5  # 100ms\n",
    "window_size = 15  # 500ms\n",
    "prediction_length = 5  # 200ms"
   ]
  },
  {
   "cell_type": "code",
   "execution_count": null,
   "metadata": {},
   "outputs": [],
   "source": []
  },
  {
   "cell_type": "code",
   "execution_count": 7,
   "metadata": {},
   "outputs": [
    {
     "name": "stderr",
     "output_type": "stream",
     "text": [
      "  0%|          | 0/2 [00:00<?, ?it/s]"
     ]
    },
    {
     "name": "stderr",
     "output_type": "stream",
     "text": [
      "100%|██████████| 2/2 [00:00<00:00,  3.72it/s]\n",
      "100%|██████████| 2/2 [00:00<00:00,  5.21it/s]\n"
     ]
    }
   ],
   "source": [
    "train_df = process_timeseries(\n",
    "    ppt_data, rolling_window_size, window_size, prediction_length, train=True\n",
    ")\n",
    "test_df = process_timeseries(\n",
    "    ppt_data, rolling_window_size, window_size, prediction_length, train=False\n",
    ")"
   ]
  },
  {
   "cell_type": "code",
   "execution_count": 8,
   "metadata": {},
   "outputs": [
    {
     "data": {
      "text/plain": [
       "(1890, 1888)"
      ]
     },
     "execution_count": 8,
     "metadata": {},
     "output_type": "execute_result"
    }
   ],
   "source": [
    "len(train_df.peopleTrialKey_window_num.unique()), len(\n",
    "    test_df.peopleTrialKey_window_num.unique()\n",
    ")"
   ]
  },
  {
   "cell_type": "code",
   "execution_count": 9,
   "metadata": {},
   "outputs": [],
   "source": [
    "train_df = train_df[\n",
    "    train_df.peopleTrialKey_window_num.isin(test_df.peopleTrialKey_window_num)\n",
    "]"
   ]
  },
  {
   "cell_type": "markdown",
   "metadata": {
    "id": "s4WCjvBqxi3B"
   },
   "source": [
    "After converting it into a `pd.Dataframe` we can then convert it into GluonTS's `PandasDataset`:"
   ]
  },
  {
   "cell_type": "code",
   "execution_count": 10,
   "metadata": {},
   "outputs": [
    {
     "data": {
      "text/plain": [
       "(1888, 1888)"
      ]
     },
     "execution_count": 10,
     "metadata": {},
     "output_type": "execute_result"
    }
   ],
   "source": [
    "len(train_df.peopleTrialKey_window_num.unique()), len(\n",
    "    test_df.peopleTrialKey_window_num.unique()\n",
    ")"
   ]
  },
  {
   "cell_type": "code",
   "execution_count": 11,
   "metadata": {},
   "outputs": [],
   "source": [
    "# test_df = test_df[test_df.peopleTrialKey_window_num == test_df.peopleTrialKey_window_num.unique()[0]]"
   ]
  },
  {
   "cell_type": "code",
   "execution_count": 12,
   "metadata": {},
   "outputs": [
    {
     "data": {
      "text/html": [
       "<div>\n",
       "<style scoped>\n",
       "    .dataframe tbody tr th:only-of-type {\n",
       "        vertical-align: middle;\n",
       "    }\n",
       "\n",
       "    .dataframe tbody tr th {\n",
       "        vertical-align: top;\n",
       "    }\n",
       "\n",
       "    .dataframe thead th {\n",
       "        text-align: right;\n",
       "    }\n",
       "</style>\n",
       "<table border=\"1\" class=\"dataframe\">\n",
       "  <thead>\n",
       "    <tr style=\"text-align: right;\">\n",
       "      <th></th>\n",
       "      <th>seconds</th>\n",
       "      <th>trialPhase</th>\n",
       "      <th>currentPosRollRadians</th>\n",
       "      <th>currentVelRollRadians</th>\n",
       "      <th>joystickX</th>\n",
       "      <th>peopleName</th>\n",
       "      <th>peopleTrialKey</th>\n",
       "      <th>peopleTrialKey_window_num</th>\n",
       "    </tr>\n",
       "  </thead>\n",
       "  <tbody>\n",
       "    <tr>\n",
       "      <th>0</th>\n",
       "      <td>1.279</td>\n",
       "      <td>3</td>\n",
       "      <td>0.014285</td>\n",
       "      <td>0.0</td>\n",
       "      <td>0.000031</td>\n",
       "      <td>2_mc_P18</td>\n",
       "      <td>2_mc_P18/12_600back_Block3_trial_012.csv</td>\n",
       "      <td>2_mc_P18/12_600back_Block3_trial_012.csv_0</td>\n",
       "    </tr>\n",
       "    <tr>\n",
       "      <th>1</th>\n",
       "      <td>1.299</td>\n",
       "      <td>3</td>\n",
       "      <td>0.013183</td>\n",
       "      <td>0.0</td>\n",
       "      <td>0.000031</td>\n",
       "      <td>2_mc_P18</td>\n",
       "      <td>2_mc_P18/12_600back_Block3_trial_012.csv</td>\n",
       "      <td>2_mc_P18/12_600back_Block3_trial_012.csv_0</td>\n",
       "    </tr>\n",
       "    <tr>\n",
       "      <th>2</th>\n",
       "      <td>1.321</td>\n",
       "      <td>3</td>\n",
       "      <td>0.012032</td>\n",
       "      <td>-0.008988</td>\n",
       "      <td>0.000031</td>\n",
       "      <td>2_mc_P18</td>\n",
       "      <td>2_mc_P18/12_600back_Block3_trial_012.csv</td>\n",
       "      <td>2_mc_P18/12_600back_Block3_trial_012.csv_0</td>\n",
       "    </tr>\n",
       "    <tr>\n",
       "      <th>3</th>\n",
       "      <td>1.341</td>\n",
       "      <td>3</td>\n",
       "      <td>0.01093</td>\n",
       "      <td>-0.008988</td>\n",
       "      <td>0.000031</td>\n",
       "      <td>2_mc_P18</td>\n",
       "      <td>2_mc_P18/12_600back_Block3_trial_012.csv</td>\n",
       "      <td>2_mc_P18/12_600back_Block3_trial_012.csv_0</td>\n",
       "    </tr>\n",
       "    <tr>\n",
       "      <th>4</th>\n",
       "      <td>1.361</td>\n",
       "      <td>3</td>\n",
       "      <td>0.010067</td>\n",
       "      <td>-0.008988</td>\n",
       "      <td>0.000031</td>\n",
       "      <td>2_mc_P18</td>\n",
       "      <td>2_mc_P18/12_600back_Block3_trial_012.csv</td>\n",
       "      <td>2_mc_P18/12_600back_Block3_trial_012.csv_0</td>\n",
       "    </tr>\n",
       "    <tr>\n",
       "      <th>...</th>\n",
       "      <td>...</td>\n",
       "      <td>...</td>\n",
       "      <td>...</td>\n",
       "      <td>...</td>\n",
       "      <td>...</td>\n",
       "      <td>...</td>\n",
       "      <td>...</td>\n",
       "      <td>...</td>\n",
       "    </tr>\n",
       "    <tr>\n",
       "      <th>15</th>\n",
       "      <td>101.002</td>\n",
       "      <td>3</td>\n",
       "      <td>0.018024</td>\n",
       "      <td>-0.008988</td>\n",
       "      <td>-0.0</td>\n",
       "      <td>2_mc_P18</td>\n",
       "      <td>2_mc_P18/20_600back_Block5_trial_020.csv</td>\n",
       "      <td>2_mc_P18/20_600back_Block5_trial_020.csv_942</td>\n",
       "    </tr>\n",
       "    <tr>\n",
       "      <th>16</th>\n",
       "      <td>101.021</td>\n",
       "      <td>3</td>\n",
       "      <td>0.017833</td>\n",
       "      <td>-0.008988</td>\n",
       "      <td>-0.0</td>\n",
       "      <td>2_mc_P18</td>\n",
       "      <td>2_mc_P18/20_600back_Block5_trial_020.csv</td>\n",
       "      <td>2_mc_P18/20_600back_Block5_trial_020.csv_942</td>\n",
       "    </tr>\n",
       "    <tr>\n",
       "      <th>17</th>\n",
       "      <td>101.041</td>\n",
       "      <td>3</td>\n",
       "      <td>0.017689</td>\n",
       "      <td>-0.008988</td>\n",
       "      <td>-0.0</td>\n",
       "      <td>2_mc_P18</td>\n",
       "      <td>2_mc_P18/20_600back_Block5_trial_020.csv</td>\n",
       "      <td>2_mc_P18/20_600back_Block5_trial_020.csv_942</td>\n",
       "    </tr>\n",
       "    <tr>\n",
       "      <th>18</th>\n",
       "      <td>101.063</td>\n",
       "      <td>3</td>\n",
       "      <td>0.017545</td>\n",
       "      <td>-0.008988</td>\n",
       "      <td>-0.0</td>\n",
       "      <td>2_mc_P18</td>\n",
       "      <td>2_mc_P18/20_600back_Block5_trial_020.csv</td>\n",
       "      <td>2_mc_P18/20_600back_Block5_trial_020.csv_942</td>\n",
       "    </tr>\n",
       "    <tr>\n",
       "      <th>19</th>\n",
       "      <td>101.085</td>\n",
       "      <td>3</td>\n",
       "      <td>0.017401</td>\n",
       "      <td>-0.008988</td>\n",
       "      <td>-0.0</td>\n",
       "      <td>2_mc_P18</td>\n",
       "      <td>2_mc_P18/20_600back_Block5_trial_020.csv</td>\n",
       "      <td>2_mc_P18/20_600back_Block5_trial_020.csv_942</td>\n",
       "    </tr>\n",
       "  </tbody>\n",
       "</table>\n",
       "<p>37760 rows × 8 columns</p>\n",
       "</div>"
      ],
      "text/plain": [
       "    seconds trialPhase currentPosRollRadians currentVelRollRadians joystickX  \\\n",
       "0     1.279          3              0.014285                   0.0  0.000031   \n",
       "1     1.299          3              0.013183                   0.0  0.000031   \n",
       "2     1.321          3              0.012032             -0.008988  0.000031   \n",
       "3     1.341          3               0.01093             -0.008988  0.000031   \n",
       "4     1.361          3              0.010067             -0.008988  0.000031   \n",
       "..      ...        ...                   ...                   ...       ...   \n",
       "15  101.002          3              0.018024             -0.008988      -0.0   \n",
       "16  101.021          3              0.017833             -0.008988      -0.0   \n",
       "17  101.041          3              0.017689             -0.008988      -0.0   \n",
       "18  101.063          3              0.017545             -0.008988      -0.0   \n",
       "19  101.085          3              0.017401             -0.008988      -0.0   \n",
       "\n",
       "   peopleName                            peopleTrialKey  \\\n",
       "0    2_mc_P18  2_mc_P18/12_600back_Block3_trial_012.csv   \n",
       "1    2_mc_P18  2_mc_P18/12_600back_Block3_trial_012.csv   \n",
       "2    2_mc_P18  2_mc_P18/12_600back_Block3_trial_012.csv   \n",
       "3    2_mc_P18  2_mc_P18/12_600back_Block3_trial_012.csv   \n",
       "4    2_mc_P18  2_mc_P18/12_600back_Block3_trial_012.csv   \n",
       "..        ...                                       ...   \n",
       "15   2_mc_P18  2_mc_P18/20_600back_Block5_trial_020.csv   \n",
       "16   2_mc_P18  2_mc_P18/20_600back_Block5_trial_020.csv   \n",
       "17   2_mc_P18  2_mc_P18/20_600back_Block5_trial_020.csv   \n",
       "18   2_mc_P18  2_mc_P18/20_600back_Block5_trial_020.csv   \n",
       "19   2_mc_P18  2_mc_P18/20_600back_Block5_trial_020.csv   \n",
       "\n",
       "                       peopleTrialKey_window_num  \n",
       "0     2_mc_P18/12_600back_Block3_trial_012.csv_0  \n",
       "1     2_mc_P18/12_600back_Block3_trial_012.csv_0  \n",
       "2     2_mc_P18/12_600back_Block3_trial_012.csv_0  \n",
       "3     2_mc_P18/12_600back_Block3_trial_012.csv_0  \n",
       "4     2_mc_P18/12_600back_Block3_trial_012.csv_0  \n",
       "..                                           ...  \n",
       "15  2_mc_P18/20_600back_Block5_trial_020.csv_942  \n",
       "16  2_mc_P18/20_600back_Block5_trial_020.csv_942  \n",
       "17  2_mc_P18/20_600back_Block5_trial_020.csv_942  \n",
       "18  2_mc_P18/20_600back_Block5_trial_020.csv_942  \n",
       "19  2_mc_P18/20_600back_Block5_trial_020.csv_942  \n",
       "\n",
       "[37760 rows x 8 columns]"
      ]
     },
     "execution_count": 12,
     "metadata": {},
     "output_type": "execute_result"
    }
   ],
   "source": [
    "test_df"
   ]
  },
  {
   "cell_type": "code",
   "execution_count": 13,
   "metadata": {
    "id": "su1i8ZdDxf7c"
   },
   "outputs": [],
   "source": [
    "from gluonts.dataset.pandas import PandasDataset\n",
    "\n",
    "\n",
    "train_ds = PandasDataset.from_long_dataframe(\n",
    "    train_df,\n",
    "    target=\"joystickX\",\n",
    "    item_id=\"peopleTrialKey_window_num\",\n",
    "    timestamp=\"seconds\",\n",
    "    feat_dynamic_real=[\"currentPosRollRadians\", \"currentVelRollRadians\"],\n",
    "    freq=\"ms\",\n",
    "    unchecked=True,\n",
    ")\n",
    "\n",
    "test_ds = PandasDataset.from_long_dataframe(\n",
    "    test_df,\n",
    "    target=\"joystickX\",\n",
    "    item_id=\"peopleTrialKey_window_num\",\n",
    "    timestamp=\"seconds\",\n",
    "    feat_dynamic_real=[\"currentPosRollRadians\", \"currentVelRollRadians\"],\n",
    "    freq=\"ms\",\n",
    "    unchecked=True,\n",
    ")"
   ]
  },
  {
   "cell_type": "code",
   "execution_count": 14,
   "metadata": {},
   "outputs": [
    {
     "data": {
      "text/plain": [
       "(PandasDataset<size=1888, freq=ms, num_feat_dynamic_real=2, num_past_feat_dynamic_real=0, num_feat_static_real=0, num_feat_static_cat=0, static_cardinalities=[]>,\n",
       " PandasDataset<size=1888, freq=ms, num_feat_dynamic_real=2, num_past_feat_dynamic_real=0, num_feat_static_real=0, num_feat_static_cat=0, static_cardinalities=[]>)"
      ]
     },
     "execution_count": 14,
     "metadata": {},
     "output_type": "execute_result"
    }
   ],
   "source": [
    "train_ds, test_ds"
   ]
  },
  {
   "cell_type": "markdown",
   "metadata": {
    "id": "cYnHkLdex_n3"
   },
   "source": [
    "\n",
    "## 🤗 Datasets\n",
    "\n",
    "From here we have to map the pandas dataset's `start` field into a time stamp instead of a `pd.Period`. We do this by defining the following class:"
   ]
  },
  {
   "cell_type": "code",
   "execution_count": 15,
   "metadata": {
    "id": "gv5Ytpwrx4FQ"
   },
   "outputs": [],
   "source": [
    "class ProcessStartField:\n",
    "    ts_id = 0\n",
    "\n",
    "    def __call__(self, data):\n",
    "        data[\"start\"] = data[\"start\"].to_timestamp()\n",
    "        data[\"feat_static_cat\"] = [self.ts_id]\n",
    "        self.ts_id += 1\n",
    "\n",
    "        return data"
   ]
  },
  {
   "cell_type": "code",
   "execution_count": 16,
   "metadata": {
    "id": "DrhbT1QIyPMA"
   },
   "outputs": [],
   "source": [
    "from gluonts.itertools import Map\n",
    "\n",
    "process_start = ProcessStartField()\n",
    "\n",
    "list_train_ds = list(Map(process_start, train_ds))\n",
    "list_test_ds = list(Map(process_start, test_ds))"
   ]
  },
  {
   "cell_type": "markdown",
   "metadata": {
    "id": "Ug2kLNUPyeyJ"
   },
   "source": [
    "Next we need to define our schema features and create our dataset from this list via the `from_list` function:"
   ]
  },
  {
   "cell_type": "code",
   "execution_count": 17,
   "metadata": {
    "id": "r1rQUtvGycaF"
   },
   "outputs": [],
   "source": [
    "from datasets import Dataset, Features, Value, Sequence\n",
    "\n",
    "features = Features(\n",
    "    {\n",
    "        \"start\": Value(\"timestamp[s]\"),\n",
    "        \"target\": Sequence(Value(\"float32\")),\n",
    "        \"feat_static_cat\": Sequence(Value(\"uint64\")),\n",
    "        # \"feat_static_real\":  Sequence(Value(\"float64\")),\n",
    "        \"feat_dynamic_real\": Sequence(Sequence(Value(\"float32\"))),\n",
    "        # \"past_feat_dynamic_real\": Sequence(Sequence(Value(\"float32\"))),\n",
    "        \"item_id\": Value(\"string\"),\n",
    "    }\n",
    ")"
   ]
  },
  {
   "cell_type": "code",
   "execution_count": 18,
   "metadata": {
    "id": "RrpP2oAxywC8"
   },
   "outputs": [],
   "source": [
    "train_dataset = Dataset.from_list(list_train_ds, features=features)\n",
    "test_dataset = Dataset.from_list(list_test_ds, features=features)"
   ]
  },
  {
   "cell_type": "code",
   "execution_count": 19,
   "metadata": {},
   "outputs": [
    {
     "data": {
      "text/plain": [
       "(15, 20)"
      ]
     },
     "execution_count": 19,
     "metadata": {},
     "output_type": "execute_result"
    }
   ],
   "source": [
    "train_example = train_dataset[0]\n",
    "test_example = test_dataset[0]\n",
    "\n",
    "len(train_example[\"target\"]), len(test_example[\"target\"])"
   ]
  },
  {
   "cell_type": "code",
   "execution_count": 20,
   "metadata": {},
   "outputs": [
    {
     "data": {
      "text/plain": [
       "{'start': datetime.datetime(1970, 1, 1, 0, 0),\n",
       " 'target': [3.099999958067201e-05,\n",
       "  3.099999958067201e-05,\n",
       "  3.099999958067201e-05,\n",
       "  3.099999958067201e-05,\n",
       "  3.099999958067201e-05,\n",
       "  3.099999958067201e-05,\n",
       "  3.099999958067201e-05,\n",
       "  3.099999958067201e-05,\n",
       "  3.099999958067201e-05,\n",
       "  3.099999958067201e-05,\n",
       "  3.099999958067201e-05,\n",
       "  3.099999958067201e-05,\n",
       "  3.099999958067201e-05,\n",
       "  3.099999958067201e-05,\n",
       "  3.099999958067201e-05,\n",
       "  3.099999958067201e-05,\n",
       "  3.099999958067201e-05,\n",
       "  3.099999958067201e-05,\n",
       "  3.099999958067201e-05,\n",
       "  3.099999958067201e-05],\n",
       " 'item_id': '2_mc_P18/12_600back_Block3_trial_012.csv_0',\n",
       " 'feat_dynamic_real': [[0.014285196550190449,\n",
       "   0.01318264752626419,\n",
       "   0.012032161466777325,\n",
       "   0.010929613374173641,\n",
       "   0.010066748596727848,\n",
       "   0.009251821786165237,\n",
       "   0.00848483107984066,\n",
       "   0.007765777874737978,\n",
       "   0.0070946612395346165,\n",
       "   0.0065194182097911835,\n",
       "   0.006040049251168966,\n",
       "   0.005512743256986141,\n",
       "   0.004985437728464603,\n",
       "   0.00441019469872117,\n",
       "   0.003978762775659561,\n",
       "   0.0035473306197673082,\n",
       "   0.0031158984638750553,\n",
       "   0.0027324033435434103,\n",
       "   0.0023968450259417295,\n",
       "   0.002109223511070013],\n",
       "  [0.0,\n",
       "   0.0,\n",
       "   -0.008988148532807827,\n",
       "   -0.008988148532807827,\n",
       "   -0.008988148532807827,\n",
       "   -0.008988148532807827,\n",
       "   -0.008988148532807827,\n",
       "   -0.008988148532807827,\n",
       "   -0.008988148532807827,\n",
       "   -0.008988148532807827,\n",
       "   -0.008988148532807827,\n",
       "   -0.008988148532807827,\n",
       "   -0.008988148532807827,\n",
       "   -0.008988148532807827,\n",
       "   -0.008988148532807827,\n",
       "   -0.008988148532807827,\n",
       "   -0.008988148532807827,\n",
       "   -0.008988148532807827,\n",
       "   -0.008988148532807827,\n",
       "   -0.008988148532807827]],\n",
       " 'feat_static_cat': [1888]}"
      ]
     },
     "execution_count": 20,
     "metadata": {},
     "output_type": "execute_result"
    }
   ],
   "source": [
    "test_example"
   ]
  },
  {
   "cell_type": "markdown",
   "metadata": {
    "id": "GrbGlDtYzyIf"
   },
   "source": [
    "We can thus use this strategy to [share](https://huggingface.co/docs/datasets/share) the dataset to the hub."
   ]
  },
  {
   "cell_type": "markdown",
   "metadata": {},
   "source": [
    "## Training Informer from scratch. "
   ]
  },
  {
   "cell_type": "code",
   "execution_count": 21,
   "metadata": {},
   "outputs": [],
   "source": [
    "from functools import lru_cache\n",
    "\n",
    "import pandas as pd\n",
    "import numpy as np\n",
    "\n",
    "freq = \"S\"\n",
    "\n",
    "\n",
    "@lru_cache(10_000)\n",
    "def convert_to_pandas_period(date, freq):\n",
    "    return pd.Period(date, freq)\n",
    "\n",
    "\n",
    "def transform_start_field(batch, freq):\n",
    "    batch[\"start\"] = [convert_to_pandas_period(date, freq) for date in batch[\"start\"]]\n",
    "    return batch"
   ]
  },
  {
   "cell_type": "code",
   "execution_count": 22,
   "metadata": {},
   "outputs": [],
   "source": [
    "from functools import partial\n",
    "\n",
    "train_dataset.set_transform(partial(transform_start_field, freq=freq))\n",
    "test_dataset.set_transform(partial(transform_start_field, freq=freq))"
   ]
  },
  {
   "cell_type": "code",
   "execution_count": 23,
   "metadata": {},
   "outputs": [
    {
     "name": "stdout",
     "output_type": "stream",
     "text": [
      "[1, 2, 3, 4, 5, 6, 7]\n"
     ]
    }
   ],
   "source": [
    "from gluonts.time_feature import get_lags_for_frequency\n",
    "\n",
    "\n",
    "lags_sequence = get_lags_for_frequency(freq)\n",
    "lags_sequence = get_lags_for_frequency(freq, lag_ub=30)\n",
    "print(lags_sequence)"
   ]
  },
  {
   "cell_type": "code",
   "execution_count": 24,
   "metadata": {},
   "outputs": [
    {
     "name": "stdout",
     "output_type": "stream",
     "text": [
      "[]\n"
     ]
    }
   ],
   "source": [
    "from gluonts.time_feature import time_features_from_frequency_str\n",
    "\n",
    "# time_features = time_features_from_frequency_str(freq)\n",
    "time_features = []\n",
    "print(time_features)"
   ]
  },
  {
   "cell_type": "code",
   "execution_count": 25,
   "metadata": {},
   "outputs": [
    {
     "name": "stdout",
     "output_type": "stream",
     "text": [
      "target <class 'list'> 20\n",
      "item_id <class 'str'> 42\n",
      "feat_dynamic_real <class 'list'> 2\n",
      "feat_static_cat <class 'list'> 1\n"
     ]
    }
   ],
   "source": [
    "for k, v in test_dataset[0].items():\n",
    "    try:\n",
    "        print(k, type(v), len(v))\n",
    "    except:\n",
    "        pass"
   ]
  },
  {
   "cell_type": "code",
   "execution_count": 26,
   "metadata": {},
   "outputs": [],
   "source": [
    "from transformers import InformerConfig, InformerForPrediction\n",
    "\n",
    "\n",
    "config = InformerConfig(\n",
    "    prediction_length=prediction_length,\n",
    "    # # context length:\n",
    "    context_length=prediction_length * 2,\n",
    "    # input_size = 3,\n",
    "    # lags coming from helper given the freq:\n",
    "    lags_sequence=lags_sequence,\n",
    "    # we'll add 2 time features (\"month of year\" and \"age\", see further):\n",
    "    num_time_features=len(time_features) + 1,\n",
    "    # we have a single static categorical feature, namely time series ID:\n",
    "    num_static_categorical_features=1,\n",
    "    # it has 366 possible values:\n",
    "    cardinality=[len(train_dataset) * 1000],\n",
    "    # the model will learn an embedding of size 2 for each of the 366 possible values:\n",
    "    embedding_dimension=[8],\n",
    "    # The number of dynamic real valued features.\n",
    "    # num_dynamic_real_features=len(train_dataset[0]['feat_dynamic_real']),\n",
    "    # transformer params:\n",
    "    encoder_layers=4,\n",
    "    decoder_layers=4,\n",
    "    d_model=32,\n",
    ")\n",
    "\n",
    "model = InformerForPrediction(config)"
   ]
  },
  {
   "cell_type": "code",
   "execution_count": 27,
   "metadata": {},
   "outputs": [],
   "source": [
    "from gluonts.time_feature import (\n",
    "    time_features_from_frequency_str,\n",
    "    TimeFeature,\n",
    "    get_lags_for_frequency,\n",
    ")\n",
    "from gluonts.dataset.field_names import FieldName\n",
    "from gluonts.transform import (\n",
    "    AddAgeFeature,\n",
    "    AddObservedValuesIndicator,\n",
    "    AddTimeFeatures,\n",
    "    AsNumpyArray,\n",
    "    Chain,\n",
    "    ExpectedNumInstanceSampler,\n",
    "    InstanceSplitter,\n",
    "    RemoveFields,\n",
    "    SelectFields,\n",
    "    SetField,\n",
    "    TestSplitSampler,\n",
    "    Transformation,\n",
    "    ValidationSplitSampler,\n",
    "    VstackFeatures,\n",
    "    RenameFields,\n",
    ")\n",
    "\n",
    "from gluonts.transform.sampler import PredictionSplitSampler"
   ]
  },
  {
   "cell_type": "code",
   "execution_count": 28,
   "metadata": {},
   "outputs": [],
   "source": [
    "from transformers import PretrainedConfig\n",
    "\n",
    "\n",
    "def create_transformation(freq: str, config: PretrainedConfig) -> Transformation:\n",
    "    remove_field_names = []\n",
    "    if config.num_static_real_features == 0:\n",
    "        remove_field_names.append(FieldName.FEAT_STATIC_REAL)\n",
    "    if config.num_dynamic_real_features == 0:\n",
    "        remove_field_names.append(FieldName.FEAT_DYNAMIC_REAL)\n",
    "    if config.num_static_categorical_features == 0:\n",
    "        remove_field_names.append(FieldName.FEAT_STATIC_CAT)\n",
    "\n",
    "    # a bit like torchvision.transforms.Compose\n",
    "    return Chain(\n",
    "        # step 1: remove static/dynamic fields if not specified\n",
    "        [RemoveFields(field_names=remove_field_names)]\n",
    "        # step 2: convert the data to NumPy (potentially not needed)\n",
    "        + (\n",
    "            [\n",
    "                AsNumpyArray(\n",
    "                    field=FieldName.FEAT_STATIC_CAT,\n",
    "                    expected_ndim=1,\n",
    "                    dtype=int,\n",
    "                )\n",
    "            ]\n",
    "            if config.num_static_categorical_features > 0\n",
    "            else []\n",
    "        )\n",
    "        + (\n",
    "            [\n",
    "                AsNumpyArray(\n",
    "                    field=FieldName.FEAT_STATIC_REAL,\n",
    "                    expected_ndim=1,\n",
    "                )\n",
    "            ]\n",
    "            if config.num_static_real_features > 0\n",
    "            else []\n",
    "        )\n",
    "        + [\n",
    "            AsNumpyArray(\n",
    "                field=FieldName.TARGET,\n",
    "                # we expect an extra dim for the multivariate case:\n",
    "                expected_ndim=1 if config.input_size == 1 else 2,\n",
    "            ),\n",
    "            # step 3: handle the NaN's by filling in the target with zero\n",
    "            # and return the mask (which is in the observed values)\n",
    "            # true for observed values, false for nan's\n",
    "            # the decoder uses this mask (no loss is incurred for unobserved values)\n",
    "            # see loss_weights inside the xxxForPrediction model\n",
    "            AddObservedValuesIndicator(\n",
    "                target_field=FieldName.TARGET,\n",
    "                output_field=FieldName.OBSERVED_VALUES,\n",
    "            ),\n",
    "            # step 4: add temporal features based on freq of the dataset\n",
    "            # month of year in the case when freq=\"M\"\n",
    "            # these serve as positional encodings\n",
    "            AddTimeFeatures(\n",
    "                start_field=FieldName.START,\n",
    "                target_field=FieldName.TARGET,\n",
    "                output_field=FieldName.FEAT_TIME,\n",
    "                time_features=[],\n",
    "                pred_length=config.prediction_length,\n",
    "            ),\n",
    "            # step 5: add another temporal feature (just a single number)\n",
    "            # tells the model where in the life the value of the time series is\n",
    "            # sort of running counter\n",
    "            AddAgeFeature(\n",
    "                target_field=FieldName.TARGET,\n",
    "                output_field=FieldName.FEAT_AGE,\n",
    "                pred_length=config.prediction_length,\n",
    "                log_scale=True,\n",
    "            ),\n",
    "            # step 6: vertically stack all the temporal features into the key FEAT_TIME\n",
    "            VstackFeatures(\n",
    "                output_field=FieldName.FEAT_TIME,\n",
    "                input_fields=[FieldName.FEAT_TIME, FieldName.FEAT_AGE]\n",
    "                + (\n",
    "                    [FieldName.FEAT_DYNAMIC_REAL]\n",
    "                    if config.num_dynamic_real_features > 0\n",
    "                    else []\n",
    "                ),\n",
    "            ),\n",
    "            # step 7: rename to match HuggingFace names\n",
    "            RenameFields(\n",
    "                mapping={\n",
    "                    FieldName.FEAT_STATIC_CAT: \"static_categorical_features\",\n",
    "                    FieldName.FEAT_STATIC_REAL: \"static_real_features\",\n",
    "                    FieldName.FEAT_TIME: \"time_features\",\n",
    "                    FieldName.TARGET: \"values\",\n",
    "                    FieldName.OBSERVED_VALUES: \"observed_mask\",\n",
    "                }\n",
    "            ),\n",
    "        ]\n",
    "    )"
   ]
  },
  {
   "cell_type": "code",
   "execution_count": 29,
   "metadata": {},
   "outputs": [],
   "source": [
    "from gluonts.transform.sampler import InstanceSampler\n",
    "from typing import Optional\n",
    "\n",
    "\n",
    "def create_instance_splitter(\n",
    "    config: PretrainedConfig,\n",
    "    mode: str,\n",
    "    train_sampler: Optional[InstanceSampler] = None,\n",
    "    validation_sampler: Optional[InstanceSampler] = None,\n",
    ") -> Transformation:\n",
    "    assert mode in [\"train\", \"validation\", \"test\"]\n",
    "\n",
    "    instance_sampler = {\n",
    "        \"train\": train_sampler\n",
    "        or ExpectedNumInstanceSampler(\n",
    "            num_instances=1.0, min_future=config.prediction_length\n",
    "        ),\n",
    "        \"validation\": validation_sampler\n",
    "        or ValidationSplitSampler(min_future=config.prediction_length),\n",
    "        \"test\": TestSplitSampler(),\n",
    "    }[mode]\n",
    "\n",
    "    return InstanceSplitter(\n",
    "        target_field=\"values\",\n",
    "        is_pad_field=FieldName.IS_PAD,\n",
    "        start_field=FieldName.START,\n",
    "        forecast_start_field=FieldName.FORECAST_START,\n",
    "        instance_sampler=instance_sampler,\n",
    "        past_length=config.context_length + max(config.lags_sequence),\n",
    "        future_length=config.prediction_length,\n",
    "        time_series_fields=[\"time_features\", \"observed_mask\"],\n",
    "    )"
   ]
  },
  {
   "cell_type": "code",
   "execution_count": 30,
   "metadata": {},
   "outputs": [],
   "source": [
    "from typing import Iterable\n",
    "\n",
    "import torch\n",
    "from gluonts.itertools import Cyclic, Cached\n",
    "from gluonts.dataset.loader import as_stacked_batches\n",
    "\n",
    "\n",
    "def create_train_dataloader(\n",
    "    config: PretrainedConfig,\n",
    "    freq,\n",
    "    data,\n",
    "    batch_size: int,\n",
    "    num_batches_per_epoch: int,\n",
    "    shuffle_buffer_length: Optional[int] = None,\n",
    "    cache_data: bool = True,\n",
    "    **kwargs,\n",
    ") -> Iterable:\n",
    "    PREDICTION_INPUT_NAMES = [\n",
    "        \"past_time_features\",\n",
    "        \"past_values\",\n",
    "        \"past_observed_mask\",\n",
    "        \"future_time_features\",\n",
    "    ]\n",
    "    if config.num_static_categorical_features > 0:\n",
    "        PREDICTION_INPUT_NAMES.append(\"static_categorical_features\")\n",
    "\n",
    "    if config.num_static_real_features > 0:\n",
    "        PREDICTION_INPUT_NAMES.append(\"static_real_features\")\n",
    "\n",
    "    TRAINING_INPUT_NAMES = PREDICTION_INPUT_NAMES + [\n",
    "        \"future_values\",\n",
    "        \"future_observed_mask\",\n",
    "    ]\n",
    "\n",
    "    transformation = create_transformation(freq, config)\n",
    "    transformed_data = transformation.apply(data, is_train=True)\n",
    "    if cache_data:\n",
    "        transformed_data = Cached(transformed_data)\n",
    "\n",
    "    # we initialize a Training instance\n",
    "    instance_splitter = create_instance_splitter(config, \"train\")\n",
    "\n",
    "    # the instance splitter will sample a window of\n",
    "    # context length + lags + prediction length (from the 366 possible transformed time series)\n",
    "    # randomly from within the target time series and return an iterator.\n",
    "    stream = Cyclic(transformed_data).stream()\n",
    "    training_instances = instance_splitter.apply(stream, is_train=True)\n",
    "\n",
    "    return as_stacked_batches(\n",
    "        training_instances,\n",
    "        batch_size=batch_size,\n",
    "        shuffle_buffer_length=shuffle_buffer_length,\n",
    "        field_names=TRAINING_INPUT_NAMES,\n",
    "        output_type=torch.tensor,\n",
    "        num_batches_per_epoch=num_batches_per_epoch,\n",
    "    )"
   ]
  },
  {
   "cell_type": "code",
   "execution_count": 31,
   "metadata": {},
   "outputs": [],
   "source": [
    "def create_test_dataloader(\n",
    "    config: PretrainedConfig,\n",
    "    freq,\n",
    "    data,\n",
    "    batch_size: int,\n",
    "    **kwargs,\n",
    "):\n",
    "    PREDICTION_INPUT_NAMES = [\n",
    "        \"past_time_features\",\n",
    "        \"past_values\",\n",
    "        \"past_observed_mask\",\n",
    "        \"future_time_features\",\n",
    "    ]\n",
    "    if config.num_static_categorical_features > 0:\n",
    "        PREDICTION_INPUT_NAMES.append(\"static_categorical_features\")\n",
    "\n",
    "    if config.num_static_real_features > 0:\n",
    "        PREDICTION_INPUT_NAMES.append(\"static_real_features\")\n",
    "\n",
    "    transformation = create_transformation(freq, config)\n",
    "    transformed_data = transformation.apply(data, is_train=False)\n",
    "\n",
    "    # we create a Test Instance splitter which will sample the very last\n",
    "    # context window seen during training only for the encoder.\n",
    "    instance_sampler = create_instance_splitter(config, \"test\")\n",
    "\n",
    "    # we apply the transformations in test mode\n",
    "    testing_instances = instance_sampler.apply(transformed_data, is_train=False)\n",
    "\n",
    "    return as_stacked_batches(\n",
    "        testing_instances,\n",
    "        batch_size=batch_size,\n",
    "        output_type=torch.tensor,\n",
    "        field_names=PREDICTION_INPUT_NAMES,\n",
    "    )"
   ]
  },
  {
   "cell_type": "code",
   "execution_count": 32,
   "metadata": {},
   "outputs": [],
   "source": [
    "train_dataloader = create_train_dataloader(\n",
    "    config=config,\n",
    "    freq=freq,\n",
    "    data=train_dataset,\n",
    "    batch_size=64,\n",
    "    num_batches_per_epoch=100,\n",
    ")\n",
    "\n",
    "test_dataloader = create_test_dataloader(\n",
    "    config=config,\n",
    "    freq=freq,\n",
    "    data=test_dataset,\n",
    "    batch_size=64,\n",
    ")"
   ]
  },
  {
   "cell_type": "code",
   "execution_count": 33,
   "metadata": {},
   "outputs": [
    {
     "name": "stdout",
     "output_type": "stream",
     "text": [
      "past_time_features torch.Size([64, 17, 1]) torch.FloatTensor\n",
      "past_values torch.Size([64, 17]) torch.FloatTensor\n",
      "past_observed_mask torch.Size([64, 17]) torch.FloatTensor\n",
      "future_time_features torch.Size([64, 5, 1]) torch.FloatTensor\n",
      "static_categorical_features torch.Size([64, 1]) torch.LongTensor\n",
      "future_values torch.Size([64, 5]) torch.FloatTensor\n",
      "future_observed_mask torch.Size([64, 5]) torch.FloatTensor\n"
     ]
    }
   ],
   "source": [
    "batch = next(iter(train_dataloader))\n",
    "for k, v in batch.items():\n",
    "    print(k, v.shape, v.type())"
   ]
  },
  {
   "cell_type": "code",
   "execution_count": 34,
   "metadata": {},
   "outputs": [],
   "source": [
    "# batch = next(iter(test_dataloader))\n",
    "# for k, v in batch.items():\n",
    "#     print(k, v.shape, v.type())"
   ]
  },
  {
   "cell_type": "markdown",
   "metadata": {},
   "source": [
    "# Getting an error here"
   ]
  },
  {
   "cell_type": "code",
   "execution_count": 35,
   "metadata": {},
   "outputs": [],
   "source": [
    "# perform forward pass\n",
    "outputs = model(\n",
    "    past_values=batch[\"past_values\"],\n",
    "    past_time_features=batch[\"past_time_features\"].type(torch.FloatTensor),\n",
    "    past_observed_mask=batch[\"past_observed_mask\"],\n",
    "    static_categorical_features=batch[\"static_categorical_features\"]\n",
    "    if config.num_static_categorical_features > 0\n",
    "    else None,\n",
    "    static_real_features=batch[\"static_real_features\"]\n",
    "    if config.num_static_real_features > 0\n",
    "    else None,\n",
    "    future_values=batch[\"future_values\"],\n",
    "    future_time_features=batch[\"future_time_features\"].type(torch.FloatTensor),\n",
    "    future_observed_mask=batch[\"future_observed_mask\"],\n",
    "    output_hidden_states=True,\n",
    ")"
   ]
  },
  {
   "cell_type": "code",
   "execution_count": 36,
   "metadata": {},
   "outputs": [
    {
     "name": "stdout",
     "output_type": "stream",
     "text": [
      "Loss: -2.917275905609131\n"
     ]
    }
   ],
   "source": [
    "print(\"Loss:\", outputs.loss.item())"
   ]
  },
  {
   "cell_type": "markdown",
   "metadata": {},
   "source": [
    "Note that the model is returning a loss. This is possible as the decoder automatically shifts the `future_values` one position to the right in order to have the labels. This allows computing a loss between the predicted values and the labels.\n",
    "\n",
    "Also note that the decoder uses a causal mask to not look into the future as the values it needs to predict are in the `future_values` tensor."
   ]
  },
  {
   "cell_type": "markdown",
   "metadata": {},
   "source": [
    "## Train the Model\n",
    "\n",
    "It's time to train the model! We'll use a standard PyTorch training loop.\n",
    "\n",
    "We will use the 🤗 [Accelerate](https://huggingface.co/docs/accelerate/index) library here, which automatically places the model, optimizer and dataloader on the appropriate `device`."
   ]
  },
  {
   "cell_type": "code",
   "execution_count": 37,
   "metadata": {},
   "outputs": [
    {
     "name": "stderr",
     "output_type": "stream",
     "text": [
      "100%|██████████| 10/10 [01:20<00:00,  8.10s/it]\n"
     ]
    }
   ],
   "source": [
    "from accelerate import Accelerator\n",
    "from torch.optim import AdamW\n",
    "\n",
    "accelerator = Accelerator(cpu=True)\n",
    "device = accelerator.device\n",
    "\n",
    "model.to(device)\n",
    "optimizer = AdamW(model.parameters(), lr=6e-4, betas=(0.9, 0.95), weight_decay=1e-1)\n",
    "\n",
    "model, optimizer, train_dataloader = accelerator.prepare(\n",
    "    model,\n",
    "    optimizer,\n",
    "    train_dataloader,\n",
    ")\n",
    "\n",
    "epochs = 10\n",
    "\n",
    "model.train()\n",
    "\n",
    "losses = []\n",
    "\n",
    "for epoch in tqdm(range(epochs)):\n",
    "    batch_losses = []\n",
    "    for idx, batch in enumerate(train_dataloader):\n",
    "        optimizer.zero_grad()\n",
    "        outputs = model(\n",
    "            static_categorical_features=batch[\"static_categorical_features\"].to(device)\n",
    "            if config.num_static_categorical_features > 0\n",
    "            else None,\n",
    "            static_real_features=batch[\"static_real_features\"].to(device)\n",
    "            if config.num_static_real_features > 0\n",
    "            else None,\n",
    "            past_time_features=batch[\"past_time_features\"]\n",
    "            .type(torch.FloatTensor)\n",
    "            .to(device),\n",
    "            past_values=batch[\"past_values\"].to(device),\n",
    "            future_time_features=batch[\"future_time_features\"]\n",
    "            .type(torch.FloatTensor)\n",
    "            .to(device),\n",
    "            future_values=batch[\"future_values\"].to(device),\n",
    "            past_observed_mask=batch[\"past_observed_mask\"].to(device),\n",
    "            future_observed_mask=batch[\"future_observed_mask\"].to(device),\n",
    "        )\n",
    "        loss = outputs.loss\n",
    "        # Backpropagation\n",
    "        accelerator.backward(loss)\n",
    "        optimizer.step()\n",
    "\n",
    "        batch_losses.append(loss.item())\n",
    "\n",
    "    losses.append(sum(batch_losses) / len(batch_losses))\n",
    "    # if idx % 1000 == 0:\n",
    "    #     print(loss.item())"
   ]
  },
  {
   "cell_type": "code",
   "execution_count": 38,
   "metadata": {},
   "outputs": [
    {
     "data": {
      "image/png": "[encoded data removed]",
      "text/plain": [
       "<Figure size 640x480 with 1 Axes>"
      ]
     },
     "metadata": {},
     "output_type": "display_data"
    }
   ],
   "source": [
    "try:\n",
    "    plt.plot(losses)\n",
    "    plt.show()\n",
    "except:\n",
    "    print(\"error while plotting losses\")"
   ]
  },
  {
   "cell_type": "code",
   "execution_count": 164,
   "metadata": {},
   "outputs": [],
   "source": [
    "unwrapped_model = accelerator.unwrap_model(model)\n",
    "unwrapped_model.save_pretrained(\n",
    "    f\"./output/Informer-Transformer-roll-{rolling_window_size}-window-{window_size}-future-{prediction_length}-v3/\",\n",
    "    is_main_process=accelerator.is_main_process,\n",
    "    save_function=accelerator.save,\n",
    ")"
   ]
  },
  {
   "cell_type": "code",
   "execution_count": 165,
   "metadata": {},
   "outputs": [
    {
     "data": {
      "text/plain": [
       "InformerForPrediction(\n",
       "  (model): InformerModel(\n",
       "    (scaler): InformerMeanScaler()\n",
       "    (embedder): InformerFeatureEmbedder(\n",
       "      (embedders): ModuleList(\n",
       "        (0): Embedding(1888000, 8)\n",
       "      )\n",
       "    )\n",
       "    (encoder): InformerEncoder(\n",
       "      (value_embedding): InformerValueEmbedding(\n",
       "        (value_projection): Linear(in_features=24, out_features=32, bias=False)\n",
       "      )\n",
       "      (embed_positions): InformerSinusoidalPositionalEmbedding(15, 32)\n",
       "      (layers): ModuleList(\n",
       "        (0-3): 4 x InformerEncoderLayer(\n",
       "          (self_attn): InformerProbSparseAttention(\n",
       "            (k_proj): Linear(in_features=32, out_features=32, bias=True)\n",
       "            (v_proj): Linear(in_features=32, out_features=32, bias=True)\n",
       "            (q_proj): Linear(in_features=32, out_features=32, bias=True)\n",
       "            (out_proj): Linear(in_features=32, out_features=32, bias=True)\n",
       "          )\n",
       "          (self_attn_layer_norm): LayerNorm((32,), eps=1e-05, elementwise_affine=True)\n",
       "          (activation_fn): GELUActivation()\n",
       "          (fc1): Linear(in_features=32, out_features=32, bias=True)\n",
       "          (fc2): Linear(in_features=32, out_features=32, bias=True)\n",
       "          (final_layer_norm): LayerNorm((32,), eps=1e-05, elementwise_affine=True)\n",
       "        )\n",
       "      )\n",
       "      (layernorm_embedding): LayerNorm((32,), eps=1e-05, elementwise_affine=True)\n",
       "      (conv_layers): ModuleList(\n",
       "        (0-2): 3 x InformerConvLayer(\n",
       "          (downConv): Conv1d(32, 32, kernel_size=(3,), stride=(1,), padding=(1,), padding_mode=circular)\n",
       "          (norm): BatchNorm1d(32, eps=1e-05, momentum=0.1, affine=True, track_running_stats=True)\n",
       "          (activation): ELU(alpha=1.0)\n",
       "          (maxPool): MaxPool1d(kernel_size=3, stride=2, padding=1, dilation=1, ceil_mode=False)\n",
       "        )\n",
       "        (3): None\n",
       "      )\n",
       "    )\n",
       "    (decoder): InformerDecoder(\n",
       "      (value_embedding): InformerValueEmbedding(\n",
       "        (value_projection): Linear(in_features=24, out_features=32, bias=False)\n",
       "      )\n",
       "      (embed_positions): InformerSinusoidalPositionalEmbedding(15, 32)\n",
       "      (layers): ModuleList(\n",
       "        (0-3): 4 x InformerDecoderLayer(\n",
       "          (self_attn): InformerProbSparseAttention(\n",
       "            (k_proj): Linear(in_features=32, out_features=32, bias=True)\n",
       "            (v_proj): Linear(in_features=32, out_features=32, bias=True)\n",
       "            (q_proj): Linear(in_features=32, out_features=32, bias=True)\n",
       "            (out_proj): Linear(in_features=32, out_features=32, bias=True)\n",
       "          )\n",
       "          (activation_fn): GELUActivation()\n",
       "          (self_attn_layer_norm): LayerNorm((32,), eps=1e-05, elementwise_affine=True)\n",
       "          (encoder_attn): InformerAttention(\n",
       "            (k_proj): Linear(in_features=32, out_features=32, bias=True)\n",
       "            (v_proj): Linear(in_features=32, out_features=32, bias=True)\n",
       "            (q_proj): Linear(in_features=32, out_features=32, bias=True)\n",
       "            (out_proj): Linear(in_features=32, out_features=32, bias=True)\n",
       "          )\n",
       "          (encoder_attn_layer_norm): LayerNorm((32,), eps=1e-05, elementwise_affine=True)\n",
       "          (fc1): Linear(in_features=32, out_features=32, bias=True)\n",
       "          (fc2): Linear(in_features=32, out_features=32, bias=True)\n",
       "          (final_layer_norm): LayerNorm((32,), eps=1e-05, elementwise_affine=True)\n",
       "        )\n",
       "      )\n",
       "      (layernorm_embedding): LayerNorm((32,), eps=1e-05, elementwise_affine=True)\n",
       "    )\n",
       "  )\n",
       "  (parameter_projection): ParameterProjection(\n",
       "    (proj): ModuleList(\n",
       "      (0-2): 3 x Linear(in_features=32, out_features=1, bias=True)\n",
       "    )\n",
       "    (domain_map): LambdaLayer()\n",
       "  )\n",
       ")"
      ]
     },
     "execution_count": 165,
     "metadata": {},
     "output_type": "execute_result"
    }
   ],
   "source": [
    "model = InformerForPrediction.from_pretrained(\n",
    "    f\"./output/Informer-Transformer-roll-{rolling_window_size}-window-{window_size}-future-{prediction_length}-v3/\"\n",
    ")\n",
    "\n",
    "model"
   ]
  },
  {
   "cell_type": "code",
   "execution_count": 166,
   "metadata": {},
   "outputs": [
    {
     "data": {
      "text/plain": [
       "InformerConfig {\n",
       "  \"_name_or_path\": \"./output/Informer-Transformer-roll-5-window-15-future-5-v3/\",\n",
       "  \"activation_dropout\": 0.1,\n",
       "  \"activation_function\": \"gelu\",\n",
       "  \"architectures\": [\n",
       "    \"InformerForPrediction\"\n",
       "  ],\n",
       "  \"attention_dropout\": 0.1,\n",
       "  \"attention_type\": \"prob\",\n",
       "  \"cardinality\": [\n",
       "    1888000\n",
       "  ],\n",
       "  \"context_length\": 10,\n",
       "  \"d_model\": 32,\n",
       "  \"decoder_attention_heads\": 2,\n",
       "  \"decoder_ffn_dim\": 32,\n",
       "  \"decoder_layerdrop\": 0.1,\n",
       "  \"decoder_layers\": 4,\n",
       "  \"distil\": true,\n",
       "  \"distribution_output\": \"student_t\",\n",
       "  \"dropout\": 0.05,\n",
       "  \"embedding_dimension\": [\n",
       "    8\n",
       "  ],\n",
       "  \"encoder_attention_heads\": 2,\n",
       "  \"encoder_ffn_dim\": 32,\n",
       "  \"encoder_layerdrop\": 0.1,\n",
       "  \"encoder_layers\": 4,\n",
       "  \"feature_size\": 24,\n",
       "  \"init_std\": 0.02,\n",
       "  \"input_size\": 1,\n",
       "  \"is_encoder_decoder\": true,\n",
       "  \"lags_sequence\": [\n",
       "    1,\n",
       "    2,\n",
       "    3,\n",
       "    4,\n",
       "    5,\n",
       "    6,\n",
       "    7\n",
       "  ],\n",
       "  \"loss\": \"nll\",\n",
       "  \"model_type\": \"informer\",\n",
       "  \"num_dynamic_real_features\": 0,\n",
       "  \"num_parallel_samples\": 100,\n",
       "  \"num_static_categorical_features\": 1,\n",
       "  \"num_static_real_features\": 0,\n",
       "  \"num_time_features\": 7,\n",
       "  \"prediction_length\": 5,\n",
       "  \"sampling_factor\": 5,\n",
       "  \"scaling\": \"mean\",\n",
       "  \"torch_dtype\": \"float32\",\n",
       "  \"transformers_version\": \"4.31.0\",\n",
       "  \"use_cache\": true\n",
       "}"
      ]
     },
     "execution_count": 166,
     "metadata": {},
     "output_type": "execute_result"
    }
   ],
   "source": [
    "model.config"
   ]
  },
  {
   "cell_type": "markdown",
   "metadata": {},
   "source": [
    "## Inference\n",
    "\n",
    "At inference time, it's recommended to use the `generate()` method for autoregressive generation, similar to NLP models.\n",
    "\n",
    "Forecasting involves getting data from the test instance sampler, which will sample the very last `context_length` sized window of values from each time series in the dataset, and pass it to the model. Note that we pass `future_time_features`, which are known ahead of time, to the decoder.\n",
    "\n",
    "The model will autoregressively sample a certain number of values from the predicted distribution and pass them back to the decoder to return the prediction outputs:"
   ]
  },
  {
   "cell_type": "code",
   "execution_count": 39,
   "metadata": {},
   "outputs": [],
   "source": [
    "model.eval()\n",
    "\n",
    "\n",
    "device = torch.device(\"cpu\")\n",
    "forecasts = []\n",
    "max_val = 0\n",
    "for batch in test_dataloader:\n",
    "    outputs = model.generate(\n",
    "        static_categorical_features=batch[\"static_categorical_features\"].to(device)\n",
    "        if config.num_static_categorical_features > 0\n",
    "        else None,\n",
    "        static_real_features=batch[\"static_real_features\"].to(device)\n",
    "        if config.num_static_real_features > 0\n",
    "        else None,\n",
    "        past_time_features=batch[\"past_time_features\"]\n",
    "        .type(torch.FloatTensor)\n",
    "        .to(device),\n",
    "        past_values=batch[\"past_values\"].to(device),\n",
    "        future_time_features=batch[\"future_time_features\"]\n",
    "        .type(torch.FloatTensor)\n",
    "        .to(device),\n",
    "        past_observed_mask=batch[\"past_observed_mask\"].to(device),\n",
    "    )\n",
    "    forecasts.append(outputs.sequences.cpu().numpy())"
   ]
  },
  {
   "cell_type": "markdown",
   "metadata": {},
   "source": [
    "The model outputs a tensor of shape (`batch_size`, `number of samples`, `prediction length`).\n",
    "\n",
    "In this case, we get `100` possible values for the next `24` months (for each example in the batch which is of size `64`):"
   ]
  },
  {
   "cell_type": "code",
   "execution_count": 40,
   "metadata": {},
   "outputs": [
    {
     "data": {
      "text/plain": [
       "1888"
      ]
     },
     "execution_count": 40,
     "metadata": {},
     "output_type": "execute_result"
    }
   ],
   "source": [
    "len(test_dataset)"
   ]
  },
  {
   "cell_type": "code",
   "execution_count": 41,
   "metadata": {},
   "outputs": [
    {
     "data": {
      "text/plain": [
       "(64, 100, 5)"
      ]
     },
     "execution_count": 41,
     "metadata": {},
     "output_type": "execute_result"
    }
   ],
   "source": [
    "forecasts[0].shape"
   ]
  },
  {
   "cell_type": "markdown",
   "metadata": {},
   "source": [
    "We'll stack them vertically, to get forecasts for all time-series in the test dataset:"
   ]
  },
  {
   "cell_type": "code",
   "execution_count": 42,
   "metadata": {},
   "outputs": [
    {
     "name": "stdout",
     "output_type": "stream",
     "text": [
      "(1888, 100, 5)\n"
     ]
    }
   ],
   "source": [
    "forecasts = np.vstack(forecasts)\n",
    "print(forecasts.shape)"
   ]
  },
  {
   "cell_type": "code",
   "execution_count": 43,
   "metadata": {},
   "outputs": [
    {
     "data": {
      "text/plain": [
       "array([2.8036377e-05, 2.6425849e-05, 2.2847471e-05, 2.0626860e-05,\n",
       "       1.8671402e-05], dtype=float32)"
      ]
     },
     "execution_count": 43,
     "metadata": {},
     "output_type": "execute_result"
    }
   ],
   "source": [
    "np.mean(forecasts, axis=1)[0]"
   ]
  },
  {
   "cell_type": "markdown",
   "metadata": {},
   "source": [
    "We can evaluate the resulting forecast with respect to the ground truth out of sample values present in the test set. For that, we'll use the 🤗 [Evaluate](https://huggingface.co/docs/evaluate/index) library, which includes the [MASE](https://huggingface.co/spaces/evaluate-metric/mase) and [sMAPE](https://huggingface.co/spaces/evaluate-metric/smape) metrics.\n",
    "\n",
    "We calculate both metrics for each time series in the dataset:"
   ]
  },
  {
   "cell_type": "code",
   "execution_count": 44,
   "metadata": {},
   "outputs": [],
   "source": [
    "from evaluate import load\n",
    "from gluonts.time_feature import get_seasonality\n",
    "\n",
    "mase_metric = load(\"evaluate-metric/mase\")\n",
    "smape_metric = load(\"evaluate-metric/smape\")\n",
    "\n",
    "forecast_median = np.median(forecasts, 1)\n",
    "mase_metrics = []\n",
    "smape_metrics = []\n",
    "for item_id, ts in enumerate(test_dataset):\n",
    "    training_data = ts[\"target\"][:-prediction_length]\n",
    "    ground_truth = ts[\"target\"][-prediction_length:]\n",
    "    # mase = mase_metric.compute(\n",
    "    #     predictions=forecast_median[item_id],\n",
    "    #     references=np.array(ground_truth),\n",
    "    #     training=np.array(training_data),\n",
    "    #     periodicity=get_seasonality(freq),\n",
    "    # )\n",
    "    # mase_metrics.append(mase[\"mase\"])\n",
    "\n",
    "    smape = smape_metric.compute(\n",
    "        predictions=forecast_median[item_id],\n",
    "        references=np.array(ground_truth),\n",
    "    )\n",
    "    smape_metrics.append(smape[\"smape\"])"
   ]
  },
  {
   "cell_type": "code",
   "execution_count": 45,
   "metadata": {},
   "outputs": [],
   "source": [
    "# print(f\"MASE: {np.mean(mase_metrics)}\")"
   ]
  },
  {
   "cell_type": "code",
   "execution_count": 46,
   "metadata": {},
   "outputs": [
    {
     "name": "stdout",
     "output_type": "stream",
     "text": [
      "sMAPE: 1.1343674675483078\n"
     ]
    }
   ],
   "source": [
    "print(f\"sMAPE: {np.mean(smape_metrics)}\")"
   ]
  },
  {
   "cell_type": "markdown",
   "metadata": {},
   "source": [
    "We can also plot the individual metrics of each time series in the dataset and observe that a handful of time series contribute a lot to the final test metric:"
   ]
  },
  {
   "cell_type": "code",
   "execution_count": 174,
   "metadata": {},
   "outputs": [],
   "source": [
    "# plt.scatter(mase_metrics, smape_metrics, alpha=0.3)\n",
    "# plt.xlabel(\"MASE\")\n",
    "# plt.ylabel(\"sMAPE\")\n",
    "# plt.show()"
   ]
  },
  {
   "cell_type": "markdown",
   "metadata": {},
   "source": [
    "To plot the prediction for any time series with respect the ground truth test data we define the following helper:"
   ]
  },
  {
   "cell_type": "code",
   "execution_count": 47,
   "metadata": {},
   "outputs": [],
   "source": [
    "import matplotlib.dates as mdates\n",
    "\n",
    "\n",
    "def plot(ts_index):\n",
    "    fig, ax = plt.subplots()\n",
    "\n",
    "    index = pd.period_range(\n",
    "        start=test_dataset[ts_index][FieldName.START],\n",
    "        periods=len(test_dataset[ts_index][FieldName.TARGET]),\n",
    "        freq=freq,\n",
    "    ).to_timestamp()\n",
    "\n",
    "    # Major ticks every half year, minor ticks every month,\n",
    "    # ax.xaxis.set_major_locator(mdates.MonthLocator(bymonth=(1, 7)))\n",
    "    # ax.xaxis.set_minor_locator(mdates.MonthLocator())\n",
    "\n",
    "    ax.plot(\n",
    "        index[-2 * prediction_length :],\n",
    "        test_dataset[ts_index][\"target\"][-2 * prediction_length :],\n",
    "        label=\"actual\",\n",
    "    )\n",
    "\n",
    "    plt.plot(\n",
    "        index[-prediction_length:],\n",
    "        np.median(forecasts[ts_index], axis=0),\n",
    "        label=\"median\",\n",
    "    )\n",
    "\n",
    "    plt.fill_between(\n",
    "        index[-prediction_length:],\n",
    "        forecasts[ts_index].mean(0) - forecasts[ts_index].std(axis=0),\n",
    "        forecasts[ts_index].mean(0) + forecasts[ts_index].std(axis=0),\n",
    "        alpha=0.3,\n",
    "        interpolate=True,\n",
    "        label=\"+/- 1-std\",\n",
    "    )\n",
    "    plt.ylim((-1, +1))\n",
    "    plt.legend()\n",
    "    plt.show()"
   ]
  },
  {
   "cell_type": "code",
   "execution_count": 48,
   "metadata": {},
   "outputs": [
    {
     "data": {
      "text/plain": [
       "<Axes: xlabel='seconds'>"
      ]
     },
     "execution_count": 48,
     "metadata": {},
     "output_type": "execute_result"
    },
    {
     "data": {
      "image/png": "[encoded data removed]",
      "text/plain": [
       "<Figure size 640x480 with 1 Axes>"
      ]
     },
     "metadata": {},
     "output_type": "display_data"
    }
   ],
   "source": [
    "ppt_data[ppt_data.peopleTrialKey == ppt_data.peopleTrialKey.unique()[0]].plot(\n",
    "    \"seconds\", [\"joystickX\", \"currentPosRollRadians\"]\n",
    ")"
   ]
  },
  {
   "cell_type": "markdown",
   "metadata": {},
   "source": [
    "For example:"
   ]
  },
  {
   "cell_type": "code",
   "execution_count": null,
   "metadata": {},
   "outputs": [],
   "source": [
    "for i in range(200):\n",
    "    plot(i)"
   ]
  }
 ],
 "metadata": {
  "colab": {
   "provenance": []
  },
  "kernelspec": {
   "display_name": "Python 3 (ipykernel)",
   "language": "python",
   "name": "python3"
  },
  "language_info": {
   "codemirror_mode": {
    "name": "ipython",
    "version": 3
   },
   "file_extension": ".py",
   "mimetype": "text/x-python",
   "name": "python",
   "nbconvert_exporter": "python",
   "pygments_lexer": "ipython3",
   "version": "3.9.16"
  }
 },
 "nbformat": 4,
 "nbformat_minor": 1
}
