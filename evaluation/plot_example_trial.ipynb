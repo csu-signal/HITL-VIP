{
 "cells": [
  {
   "cell_type": "code",
   "execution_count": null,
   "metadata": {},
   "outputs": [],
   "source": [
    "import sys\n",
    "sys.path.append('../')\n",
    "\n",
    "import pandas as pd\n",
    "import numpy as np\n",
    "import matplotlib.pyplot as plt\n",
    "import pytorch_lightning as pl\n",
    "from stable_baselines3 import DDPG\n",
    "from deep_learning.networks.lstm import lstm_regressor\n",
    "import torch"
   ]
  },
  {
   "cell_type": "code",
   "execution_count": 2,
   "metadata": {},
   "outputs": [],
   "source": [
    "data = pd.read_csv('../data/data_all_radians.csv')\n",
    "data['joystickX'] = data['joystickX'] * -1\n",
    "proficiencies = pd.read_csv('../data/overall_proficiency.csv')"
   ]
  },
  {
   "cell_type": "code",
   "execution_count": 5,
   "metadata": {},
   "outputs": [
    {
     "data": {
      "text/plain": [
       "array(['1_co_P13/12_600back_Block3_trial_012.csv',\n",
       "       '1_co_P13/20_600back_Block5_trial_020.csv',\n",
       "       '1_co_P13/06_600back_Block2_trial_006.csv', ...,\n",
       "       '2_xz_P11/07_600back_Block2_trial_007.csv',\n",
       "       '2_xz_P11/09_600back_Block3_trial_009.csv',\n",
       "       '2_xz_P11/04_600back_Block1_trial_004.csv'], dtype=object)"
      ]
     },
     "execution_count": 5,
     "metadata": {},
     "output_type": "execute_result"
    }
   ],
   "source": [
    "data.peopleTrialKey.unique()"
   ]
  },
  {
   "cell_type": "code",
   "execution_count": 56,
   "metadata": {},
   "outputs": [
    {
     "data": {
      "text/html": [
       "<div>\n",
       "<style scoped>\n",
       "    .dataframe tbody tr th:only-of-type {\n",
       "        vertical-align: middle;\n",
       "    }\n",
       "\n",
       "    .dataframe tbody tr th {\n",
       "        vertical-align: top;\n",
       "    }\n",
       "\n",
       "    .dataframe thead th {\n",
       "        text-align: right;\n",
       "    }\n",
       "</style>\n",
       "<table border=\"1\" class=\"dataframe\">\n",
       "  <thead>\n",
       "    <tr style=\"text-align: right;\">\n",
       "      <th></th>\n",
       "      <th>seconds</th>\n",
       "      <th>trialPhase</th>\n",
       "      <th>currentPosRollRadians</th>\n",
       "      <th>currentVelRollRadians</th>\n",
       "      <th>joystickX</th>\n",
       "      <th>peopleName</th>\n",
       "      <th>peopleTrialKey</th>\n",
       "    </tr>\n",
       "  </thead>\n",
       "  <tbody>\n",
       "    <tr>\n",
       "      <th>8792537</th>\n",
       "      <td>0.033</td>\n",
       "      <td>1</td>\n",
       "      <td>-0.003068</td>\n",
       "      <td>0.000000</td>\n",
       "      <td>0.008057</td>\n",
       "      <td>2_ms_P2/</td>\n",
       "      <td>2_ms_P2/20_600back_Block5_trial_020.csv</td>\n",
       "    </tr>\n",
       "    <tr>\n",
       "      <th>8792538</th>\n",
       "      <td>0.041</td>\n",
       "      <td>1</td>\n",
       "      <td>-0.003068</td>\n",
       "      <td>0.000843</td>\n",
       "      <td>0.008057</td>\n",
       "      <td>2_ms_P2/</td>\n",
       "      <td>2_ms_P2/20_600back_Block5_trial_020.csv</td>\n",
       "    </tr>\n",
       "    <tr>\n",
       "      <th>8792539</th>\n",
       "      <td>0.050</td>\n",
       "      <td>1</td>\n",
       "      <td>-0.003068</td>\n",
       "      <td>0.004400</td>\n",
       "      <td>0.008057</td>\n",
       "      <td>2_ms_P2/</td>\n",
       "      <td>2_ms_P2/20_600back_Block5_trial_020.csv</td>\n",
       "    </tr>\n",
       "    <tr>\n",
       "      <th>8792540</th>\n",
       "      <td>0.060</td>\n",
       "      <td>1</td>\n",
       "      <td>-0.003068</td>\n",
       "      <td>0.008146</td>\n",
       "      <td>0.008057</td>\n",
       "      <td>2_ms_P2/</td>\n",
       "      <td>2_ms_P2/20_600back_Block5_trial_020.csv</td>\n",
       "    </tr>\n",
       "    <tr>\n",
       "      <th>8792541</th>\n",
       "      <td>0.068</td>\n",
       "      <td>1</td>\n",
       "      <td>-0.003068</td>\n",
       "      <td>0.008146</td>\n",
       "      <td>0.008057</td>\n",
       "      <td>2_ms_P2/</td>\n",
       "      <td>2_ms_P2/20_600back_Block5_trial_020.csv</td>\n",
       "    </tr>\n",
       "    <tr>\n",
       "      <th>...</th>\n",
       "      <td>...</td>\n",
       "      <td>...</td>\n",
       "      <td>...</td>\n",
       "      <td>...</td>\n",
       "      <td>...</td>\n",
       "      <td>...</td>\n",
       "      <td>...</td>\n",
       "    </tr>\n",
       "    <tr>\n",
       "      <th>8797326</th>\n",
       "      <td>100.276</td>\n",
       "      <td>3</td>\n",
       "      <td>0.002684</td>\n",
       "      <td>-0.008988</td>\n",
       "      <td>-0.000031</td>\n",
       "      <td>2_ms_P2/</td>\n",
       "      <td>2_ms_P2/20_600back_Block5_trial_020.csv</td>\n",
       "    </tr>\n",
       "    <tr>\n",
       "      <th>8797327</th>\n",
       "      <td>100.298</td>\n",
       "      <td>3</td>\n",
       "      <td>0.002541</td>\n",
       "      <td>-0.008988</td>\n",
       "      <td>-0.000031</td>\n",
       "      <td>2_ms_P2/</td>\n",
       "      <td>2_ms_P2/20_600back_Block5_trial_020.csv</td>\n",
       "    </tr>\n",
       "    <tr>\n",
       "      <th>8797328</th>\n",
       "      <td>100.320</td>\n",
       "      <td>3</td>\n",
       "      <td>0.002397</td>\n",
       "      <td>-0.008988</td>\n",
       "      <td>-0.000031</td>\n",
       "      <td>2_ms_P2/</td>\n",
       "      <td>2_ms_P2/20_600back_Block5_trial_020.csv</td>\n",
       "    </tr>\n",
       "    <tr>\n",
       "      <th>8797329</th>\n",
       "      <td>100.341</td>\n",
       "      <td>3</td>\n",
       "      <td>0.002253</td>\n",
       "      <td>-0.008988</td>\n",
       "      <td>-0.000031</td>\n",
       "      <td>2_ms_P2/</td>\n",
       "      <td>2_ms_P2/20_600back_Block5_trial_020.csv</td>\n",
       "    </tr>\n",
       "    <tr>\n",
       "      <th>8797330</th>\n",
       "      <td>100.361</td>\n",
       "      <td>3</td>\n",
       "      <td>0.002061</td>\n",
       "      <td>-0.008988</td>\n",
       "      <td>-0.000031</td>\n",
       "      <td>2_ms_P2/</td>\n",
       "      <td>2_ms_P2/20_600back_Block5_trial_020.csv</td>\n",
       "    </tr>\n",
       "  </tbody>\n",
       "</table>\n",
       "<p>4794 rows × 7 columns</p>\n",
       "</div>"
      ],
      "text/plain": [
       "         seconds  trialPhase  currentPosRollRadians  currentVelRollRadians  \\\n",
       "8792537    0.033           1              -0.003068               0.000000   \n",
       "8792538    0.041           1              -0.003068               0.000843   \n",
       "8792539    0.050           1              -0.003068               0.004400   \n",
       "8792540    0.060           1              -0.003068               0.008146   \n",
       "8792541    0.068           1              -0.003068               0.008146   \n",
       "...          ...         ...                    ...                    ...   \n",
       "8797326  100.276           3               0.002684              -0.008988   \n",
       "8797327  100.298           3               0.002541              -0.008988   \n",
       "8797328  100.320           3               0.002397              -0.008988   \n",
       "8797329  100.341           3               0.002253              -0.008988   \n",
       "8797330  100.361           3               0.002061              -0.008988   \n",
       "\n",
       "         joystickX peopleName                           peopleTrialKey  \n",
       "8792537   0.008057   2_ms_P2/  2_ms_P2/20_600back_Block5_trial_020.csv  \n",
       "8792538   0.008057   2_ms_P2/  2_ms_P2/20_600back_Block5_trial_020.csv  \n",
       "8792539   0.008057   2_ms_P2/  2_ms_P2/20_600back_Block5_trial_020.csv  \n",
       "8792540   0.008057   2_ms_P2/  2_ms_P2/20_600back_Block5_trial_020.csv  \n",
       "8792541   0.008057   2_ms_P2/  2_ms_P2/20_600back_Block5_trial_020.csv  \n",
       "...            ...        ...                                      ...  \n",
       "8797326  -0.000031   2_ms_P2/  2_ms_P2/20_600back_Block5_trial_020.csv  \n",
       "8797327  -0.000031   2_ms_P2/  2_ms_P2/20_600back_Block5_trial_020.csv  \n",
       "8797328  -0.000031   2_ms_P2/  2_ms_P2/20_600back_Block5_trial_020.csv  \n",
       "8797329  -0.000031   2_ms_P2/  2_ms_P2/20_600back_Block5_trial_020.csv  \n",
       "8797330  -0.000031   2_ms_P2/  2_ms_P2/20_600back_Block5_trial_020.csv  \n",
       "\n",
       "[4794 rows x 7 columns]"
      ]
     },
     "execution_count": 56,
     "metadata": {},
     "output_type": "execute_result"
    }
   ],
   "source": [
    "trial_data = data[data.peopleTrialKey == \"2_lp_P4/20_600back_Block5_trial_020.csv\"]\n",
    "\n",
    "trial_data"
   ]
  },
  {
   "cell_type": "code",
   "execution_count": 7,
   "metadata": {},
   "outputs": [],
   "source": [
    "rl_path = '../working_models/assistants/ddpg_penalizeDeflection.zip'\n",
    "dl_path = '../working_models/pilots/pilot_mars_lstm_good_small_window.ckpt'"
   ]
  },
  {
   "cell_type": "code",
   "execution_count": 8,
   "metadata": {},
   "outputs": [
    {
     "data": {
      "text/plain": [
       "<stable_baselines3.ddpg.ddpg.DDPG at 0x2e43c9eb0>"
      ]
     },
     "execution_count": 8,
     "metadata": {},
     "output_type": "execute_result"
    }
   ],
   "source": [
    "rl_model = DDPG.load(rl_path)\n",
    "rl_model"
   ]
  },
  {
   "cell_type": "code",
   "execution_count": 9,
   "metadata": {},
   "outputs": [
    {
     "data": {
      "text/plain": [
       "lstm_regressor(\n",
       "  (lstm): LSTM(3, 100, num_layers=4, batch_first=True, dropout=0.1)\n",
       "  (hidden_layers): ModuleList(\n",
       "    (0-2): 3 x Sequential(\n",
       "      (0): Linear(in_features=100, out_features=100, bias=True)\n",
       "      (1): Tanh()\n",
       "      (2): Dropout(p=0.1, inplace=False)\n",
       "    )\n",
       "  )\n",
       "  (output_layer): Linear(in_features=100, out_features=1, bias=True)\n",
       "  (criterion): HuberLoss()\n",
       ")"
      ]
     },
     "execution_count": 9,
     "metadata": {},
     "output_type": "execute_result"
    }
   ],
   "source": [
    "dl_model = lstm_regressor.load_from_checkpoint(dl_path, map_location=torch.device('cpu'))\n",
    "dl_model"
   ]
  },
  {
   "cell_type": "code",
   "execution_count": 10,
   "metadata": {},
   "outputs": [
    {
     "name": "stdout",
     "output_type": "stream",
     "text": [
      "39.572 43.775\n"
     ]
    }
   ],
   "source": [
    "print(trial_data['seconds'].values[1900:2100][0], trial_data['seconds'].values[1900:2100][-1])"
   ]
  },
  {
   "cell_type": "code",
   "execution_count": 11,
   "metadata": {},
   "outputs": [],
   "source": [
    "from deep_learning.utils.mars_dataset import MarsDataset"
   ]
  },
  {
   "cell_type": "code",
   "execution_count": 12,
   "metadata": {},
   "outputs": [],
   "source": [
    "# trial_data = trial_data.iloc[1850:2150, :]"
   ]
  },
  {
   "cell_type": "code",
   "execution_count": 57,
   "metadata": {},
   "outputs": [
    {
     "name": "stderr",
     "output_type": "stream",
     "text": [
      "100%|██████████| 1/1 [00:00<00:00, 25.09it/s]\n"
     ]
    },
    {
     "name": "stdout",
     "output_type": "stream",
     "text": [
      "torch.Size([4757, 33])\n"
     ]
    }
   ],
   "source": [
    "# test_ppt_trial = \"2_ms_P2/20_600back_Block5_trial_020.csv\"\n",
    "\n",
    "past_window_size = 10\n",
    "future_time = 1\n",
    "lsmt_format = True\n",
    "\n",
    "test_ppt_dataset = MarsDataset(trial_data,    \n",
    "                                    past_window_size=past_window_size, \n",
    "                                    future_time=future_time, lstm_format=lsmt_format, \n",
    "                                    Xmeans=dl_model.Xmeans.reshape(1, -1), Xstds=dl_model.Xstds.reshape(1, -1), Tmeans=dl_model.Tmeans.reshape(1, -1), Tstds=dl_model.Tstds.reshape(1, -1))\n",
    "\n",
    "\n",
    "features = test_ppt_dataset.features_physics.float()\n",
    "print(features.shape)\n",
    "Xs = features.reshape(-1,past_window_size+1, 3)\n",
    "dl_preds = dl_model.use(Xs, )\n",
    "dl_seconds = np.float32(test_ppt_dataset.metas[:,0])\n",
    "dl_actual = test_ppt_dataset.targets.numpy()\n",
    "\n",
    "# plot_predicted_joystick_with_actual_trial(joystick_model, test_ppt_dataset, training_parameters, device=device)"
   ]
  },
  {
   "cell_type": "code",
   "execution_count": 63,
   "metadata": {},
   "outputs": [],
   "source": [
    "from deep_learning.utils.utils import get_observations_actions_arrays\n",
    "\n",
    "\n",
    "test_observations, rl_actual, rl_seconds = get_observations_actions_arrays(trial_data, proficiencies, {'proficiency': ['Medium']}, train=False,train_fraction=0)\n",
    "\n",
    "rl_preds, _ = rl_model.predict(torch.tensor(test_observations, device='cpu', dtype=torch.float32))"
   ]
  },
  {
   "cell_type": "code",
   "execution_count": 67,
   "metadata": {},
   "outputs": [],
   "source": [
    "# plottting rl model predictions vs dl model predictions\n",
    "\n",
    "# from python_vip.plotting import plot_trial_normal\n",
    "dl_trial_data = pd.DataFrame({'seconds': dl_seconds, 'actual': dl_actual.reshape(-1), 'predicted': dl_preds.reshape(-1)}, columns=['seconds', 'actual', 'predicted'])\n",
    "rl_trial_data = pd.DataFrame({'seconds': rl_seconds.reshape(-1), 'actual': rl_actual.reshape(-1), 'predicted': rl_preds.reshape(-1)}, columns=['seconds', 'actual', 'predicted'])\n"
   ]
  },
  {
   "cell_type": "code",
   "execution_count": 68,
   "metadata": {},
   "outputs": [
    {
     "data": {
      "text/html": [
       "<div>\n",
       "<style scoped>\n",
       "    .dataframe tbody tr th:only-of-type {\n",
       "        vertical-align: middle;\n",
       "    }\n",
       "\n",
       "    .dataframe tbody tr th {\n",
       "        vertical-align: top;\n",
       "    }\n",
       "\n",
       "    .dataframe thead th {\n",
       "        text-align: right;\n",
       "    }\n",
       "</style>\n",
       "<table border=\"1\" class=\"dataframe\">\n",
       "  <thead>\n",
       "    <tr style=\"text-align: right;\">\n",
       "      <th></th>\n",
       "      <th>seconds</th>\n",
       "      <th>actual</th>\n",
       "      <th>predicted</th>\n",
       "    </tr>\n",
       "  </thead>\n",
       "  <tbody>\n",
       "    <tr>\n",
       "      <th>0</th>\n",
       "      <td>0.368</td>\n",
       "      <td>0.008057</td>\n",
       "      <td>-0.884941</td>\n",
       "    </tr>\n",
       "    <tr>\n",
       "      <th>1</th>\n",
       "      <td>0.388</td>\n",
       "      <td>0.008057</td>\n",
       "      <td>-0.885447</td>\n",
       "    </tr>\n",
       "    <tr>\n",
       "      <th>2</th>\n",
       "      <td>0.410</td>\n",
       "      <td>0.008057</td>\n",
       "      <td>-0.884863</td>\n",
       "    </tr>\n",
       "    <tr>\n",
       "      <th>3</th>\n",
       "      <td>0.432</td>\n",
       "      <td>0.008057</td>\n",
       "      <td>-0.885152</td>\n",
       "    </tr>\n",
       "    <tr>\n",
       "      <th>4</th>\n",
       "      <td>0.452</td>\n",
       "      <td>0.008057</td>\n",
       "      <td>-0.885269</td>\n",
       "    </tr>\n",
       "    <tr>\n",
       "      <th>...</th>\n",
       "      <td>...</td>\n",
       "      <td>...</td>\n",
       "      <td>...</td>\n",
       "    </tr>\n",
       "    <tr>\n",
       "      <th>4753</th>\n",
       "      <td>100.276</td>\n",
       "      <td>-0.000031</td>\n",
       "      <td>-0.885047</td>\n",
       "    </tr>\n",
       "    <tr>\n",
       "      <th>4754</th>\n",
       "      <td>100.298</td>\n",
       "      <td>-0.000031</td>\n",
       "      <td>-0.884909</td>\n",
       "    </tr>\n",
       "    <tr>\n",
       "      <th>4755</th>\n",
       "      <td>100.320</td>\n",
       "      <td>-0.000031</td>\n",
       "      <td>-0.884771</td>\n",
       "    </tr>\n",
       "    <tr>\n",
       "      <th>4756</th>\n",
       "      <td>100.341</td>\n",
       "      <td>-0.000031</td>\n",
       "      <td>-0.884632</td>\n",
       "    </tr>\n",
       "    <tr>\n",
       "      <th>4757</th>\n",
       "      <td>100.361</td>\n",
       "      <td>-0.000031</td>\n",
       "      <td>-0.884447</td>\n",
       "    </tr>\n",
       "  </tbody>\n",
       "</table>\n",
       "<p>4758 rows × 3 columns</p>\n",
       "</div>"
      ],
      "text/plain": [
       "      seconds    actual  predicted\n",
       "0       0.368  0.008057  -0.884941\n",
       "1       0.388  0.008057  -0.885447\n",
       "2       0.410  0.008057  -0.884863\n",
       "3       0.432  0.008057  -0.885152\n",
       "4       0.452  0.008057  -0.885269\n",
       "...       ...       ...        ...\n",
       "4753  100.276 -0.000031  -0.885047\n",
       "4754  100.298 -0.000031  -0.884909\n",
       "4755  100.320 -0.000031  -0.884771\n",
       "4756  100.341 -0.000031  -0.884632\n",
       "4757  100.361 -0.000031  -0.884447\n",
       "\n",
       "[4758 rows x 3 columns]"
      ]
     },
     "execution_count": 68,
     "metadata": {},
     "output_type": "execute_result"
    }
   ],
   "source": [
    "rl_trial_data"
   ]
  },
  {
   "cell_type": "code",
   "execution_count": 71,
   "metadata": {},
   "outputs": [],
   "source": [
    "start= 0\n",
    "end = 30\n",
    "\n",
    "dl_trial_data = dl_trial_data[(dl_trial_data.seconds >= start) & (dl_trial_data.seconds <= end)]\n",
    "rl_trial_data = rl_trial_data[(rl_trial_data.seconds >= start) & (rl_trial_data.seconds <= end)]\n",
    "trial_data = trial_data[(trial_data.seconds >= start) & (trial_data.seconds <= end)]"
   ]
  },
  {
   "cell_type": "code",
   "execution_count": 72,
   "metadata": {},
   "outputs": [
    {
     "data": {
      "text/plain": [
       "(1494, 1494)"
      ]
     },
     "execution_count": 72,
     "metadata": {},
     "output_type": "execute_result"
    }
   ],
   "source": [
    "len(trial_data), len(rl_trial_data)"
   ]
  },
  {
   "cell_type": "code",
   "execution_count": 73,
   "metadata": {},
   "outputs": [
    {
     "data": {
      "text/plain": [
       "0"
      ]
     },
     "execution_count": 73,
     "metadata": {},
     "output_type": "execute_result"
    }
   ],
   "source": [
    "np.sum(rl_trial_data['predicted'].values > 1)"
   ]
  },
  {
   "cell_type": "code",
   "execution_count": null,
   "metadata": {},
   "outputs": [],
   "source": [
    "\n",
    "\n",
    "# start = 1900\n",
    "# end = 2100\n",
    "\n",
    "# seconds = trial_data['seconds'].values\n",
    "# positions = np.degrees(trial_data['currentPosRollRadians'].values)\n",
    "# # print(max(positions))\n",
    "# velocities = np.degrees(trial_data['currentVelRollRadians'].values)\n",
    "# joysticks = trial_data['joystickX'].values\n",
    "\n",
    "\n",
    "\n",
    "plt.rcParams.update({'font.size': 32})\n",
    "fig, ax = plt.subplots(figsize=(20,10))\n",
    "fig.subplots_adjust(right=0.825, left=0.1)\n",
    "\n",
    "twin1 = ax.twinx()\n",
    "# twin2 = ax.twinx()\n",
    "\n",
    "# Offset the right spine of twin2.  The ticks and label have already been\n",
    "# placed on the right by twinx above.\n",
    "# twin2.spines.right.set_position((\"outward\", 127))\n",
    "\n",
    "p1, = twin1.plot(trial_data['seconds'], np.degrees(trial_data['currentPosRollRadians'].values), \"-x\", color='black', label=\"Position (degrees)\", zorder=100, markersize=8)\n",
    "\n",
    "p2, = ax.plot(trial_data['seconds'], trial_data['joystickX'].values, \"o\", color='red', label=\"Actual\", zorder=200, markersize=12)\n",
    "p2, = ax.plot(rl_trial_data['seconds'], rl_trial_data['predicted'].values, \"--\", color='blue', label=\"RL\", zorder=300, markersize=12, linewidth=2.2)\n",
    "p2, = ax.plot(dl_trial_data['seconds'], dl_trial_data['predicted'].values, \"-x\", color='green', label=\"DL\", zorder=400, markersize=12, linewidth=2.2)\n",
    "# p3, = twin2.plot(dl_seconds, dl_preds, \"b--\", label=\"DL Joystick Deflections\", zorder=300)\n",
    "\n",
    "\n",
    "positions_max = 70\n",
    "actions_max = 1.3\n",
    "# velocities_max = np.max(np.absolute(velocities)) + 5\n",
    "# ax.set_xlim(0, 2)\n",
    "twin1.set_ylim(-positions_max, positions_max)\n",
    "ax.set_ylim(-actions_max, actions_max)\n",
    "# twin2.set_ylim(-actions_max, actions_max)\n",
    "\n",
    "ax.set_xlabel(\"Time (s)\")\n",
    "twin1.set_ylabel(\"Position (degrees)\")\n",
    "ax.set_ylabel(\"Joystick Deflections\")\n",
    "# twin2.set_ylabel(\"DL Joystick Deflections\")\n",
    "\n",
    "twin1.yaxis.label.set_color(p1.get_color())\n",
    "# twin1.yaxis.label.set_color(p2.get_color())\n",
    "# twin2.yaxis.label.set_color(p3.get_color())\n",
    "\n",
    "tkw = dict(size=4, width=1.5)\n",
    "\n",
    "twin1.tick_params(axis='y', colors=p1.get_color(), **tkw)\n",
    "# twin1.tick_params(axis='y', colors=p2.get_color(), **tkw)\n",
    "# twin2.tick_params(axis='y', colors=p3.get_color(), **tkw)\n",
    "ax.tick_params(axis='x', **tkw)\n",
    "\n",
    "ax.legend()\n",
    "plt.tight_layout()\n",
    "\n",
    "# plt.axhline(y=60, color='blue', linestyle='dashed')\n",
    "# plt.axhline(y=-60, color='blue', linestyle='dashed')\n",
    "\n",
    "plt.savefig('output/ms_P2_trial_2_20_plot_predicted_deflections_pilot_mars_lstm_good_small_window_ddpg_penalizeDeflection.png', dpi=300)"
   ]
  },
  {
   "cell_type": "code",
   "execution_count": null,
   "metadata": {},
   "outputs": [],
   "source": [
    "# from python_vip.plotting import plot_trial_normal\n",
    "\n",
    "# start = 1900\n",
    "# end = 2100\n",
    "# trial_data = data[data.peopleTrialKey == \"1_co_P13/12_600back_Block3_trial_012.csv\"]\n",
    "seconds = trial_data['seconds'].values\n",
    "print(seconds[0], seconds[-1])\n",
    "positions = np.degrees(trial_data['currentPosRollRadians'].values)\n",
    "print(max(positions))\n",
    "velocities = np.degrees(trial_data['currentVelRollRadians'].values)\n",
    "joysticks = trial_data['joystickX'].values\n",
    "\n",
    "plt.rcParams.update({'font.size': 32})\n",
    "fig, ax = plt.subplots(figsize=(20,10))\n",
    "fig.subplots_adjust(right=0.825, left=0.1)\n",
    "\n",
    "twin1 = ax.twinx()\n",
    "twin2 = ax.twinx()\n",
    "\n",
    "# Offset the right spine of twin2.  The ticks and label have already been\n",
    "# placed on the right by twinx above.\n",
    "twin2.spines.right.set_position((\"outward\", 127))\n",
    "\n",
    "p1, = ax.plot(seconds, joysticks, \"g-\", label=\"Joystick deflections\", zorder=100)\n",
    "p2, = twin1.plot(seconds,velocities, \"r--\", label=\"theta_dot(t)/angular velocity\", zorder=200)\n",
    "p3, = twin2.plot(seconds, positions, \"b-\", label=\"theta(t)/angular position\", zorder=300)\n",
    "\n",
    "\n",
    "positions_max = 65\n",
    "actions_max = 1.1\n",
    "velocities_max = np.max(np.absolute(velocities)) + 5\n",
    "# ax.set_xlim(0, 2)\n",
    "ax.set_ylim(-actions_max, actions_max)\n",
    "twin1.set_ylim(-velocities_max, velocities_max)\n",
    "twin2.set_ylim(-positions_max, positions_max)\n",
    "\n",
    "# ax.set_xlabel(\"Time (s)\")\n",
    "ax.set_ylabel(\"Joystick Deflection\")\n",
    "twin1.set_ylabel(\"Velocity (degrees/sec)\")\n",
    "twin2.set_ylabel(\"Position (degrees)\")\n",
    "\n",
    "ax.yaxis.label.set_color(p1.get_color())\n",
    "twin1.yaxis.label.set_color(p2.get_color())\n",
    "twin2.yaxis.label.set_color(p3.get_color())\n",
    "\n",
    "tkw = dict(size=4, width=1.5)\n",
    "\n",
    "ax.tick_params(axis='y', colors=p1.get_color(), **tkw)\n",
    "twin1.tick_params(axis='y', colors=p2.get_color(), **tkw)\n",
    "twin2.tick_params(axis='y', colors=p3.get_color(), **tkw)\n",
    "ax.tick_params(axis='x', **tkw)\n",
    "\n",
    "# plt.axhline(y=60, color='blue', linestyle='dashed')\n",
    "# plt.axhline(y=-60, color='blue', linestyle='dashed')\n",
    "\n",
    "# plt.savefig('output/co_P13_trial_1_12_plot.png', dpi=300)"
   ]
  },
  {
   "cell_type": "code",
   "execution_count": null,
   "metadata": {},
   "outputs": [],
   "source": []
  }
 ],
 "metadata": {
  "kernelspec": {
   "display_name": "m3x",
   "language": "python",
   "name": "python3"
  },
  "language_info": {
   "codemirror_mode": {
    "name": "ipython",
    "version": 3
   },
   "file_extension": ".py",
   "mimetype": "text/x-python",
   "name": "python",
   "nbconvert_exporter": "python",
   "pygments_lexer": "ipython3",
   "version": "3.9.16"
  },
  "orig_nbformat": 4
 },
 "nbformat": 4,
 "nbformat_minor": 2
}
