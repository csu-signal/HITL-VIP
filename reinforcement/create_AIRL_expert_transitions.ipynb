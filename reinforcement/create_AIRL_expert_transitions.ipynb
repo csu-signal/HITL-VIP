{
 "cells": [
  {
   "cell_type": "markdown",
   "id": "dd9bbde1",
   "metadata": {},
   "source": [
    "Notebook parses MARS dataset into a imitation.data.type.Transistions for the 4 all good participants"
   ]
  },
  {
   "cell_type": "code",
   "execution_count": 1,
   "id": "64870acc",
   "metadata": {},
   "outputs": [],
   "source": [
    "import pandas as pd\n",
    "import numpy as np"
   ]
  },
  {
   "cell_type": "code",
   "execution_count": 2,
   "id": "189a8851",
   "metadata": {},
   "outputs": [
    {
     "data": {
      "application/javascript": "IPython.notebook.set_autosave_interval(30000)"
     },
     "metadata": {},
     "output_type": "display_data"
    },
    {
     "name": "stdout",
     "output_type": "stream",
     "text": [
      "Autosaving every 30 seconds\n"
     ]
    }
   ],
   "source": [
    "%autosave 30"
   ]
  },
  {
   "cell_type": "code",
   "execution_count": 3,
   "id": "a0462454",
   "metadata": {},
   "outputs": [],
   "source": [
    "parent_path = \"../data/\"\n",
    "data_all = \"data_all.csv\"\n",
    "good_labels = \"Clarified Proficiency Groups.csv\""
   ]
  },
  {
   "cell_type": "code",
   "execution_count": 4,
   "id": "eb26a058",
   "metadata": {},
   "outputs": [],
   "source": [
    "df = pd.read_csv(parent_path + data_all)"
   ]
  },
  {
   "cell_type": "code",
   "execution_count": 5,
   "id": "7d1195d8",
   "metadata": {},
   "outputs": [
    {
     "data": {
      "text/plain": [
       "(1360,)"
      ]
     },
     "execution_count": 5,
     "metadata": {},
     "output_type": "execute_result"
    }
   ],
   "source": [
    "df.peopleTrialKey.unique().shape"
   ]
  },
  {
   "cell_type": "code",
   "execution_count": 6,
   "id": "6773d723",
   "metadata": {},
   "outputs": [
    {
     "data": {
      "text/html": [
       "<div>\n",
       "<style scoped>\n",
       "    .dataframe tbody tr th:only-of-type {\n",
       "        vertical-align: middle;\n",
       "    }\n",
       "\n",
       "    .dataframe tbody tr th {\n",
       "        vertical-align: top;\n",
       "    }\n",
       "\n",
       "    .dataframe thead th {\n",
       "        text-align: right;\n",
       "    }\n",
       "</style>\n",
       "<table border=\"1\" class=\"dataframe\">\n",
       "  <thead>\n",
       "    <tr style=\"text-align: right;\">\n",
       "      <th></th>\n",
       "      <th>seconds</th>\n",
       "      <th>trialPhase</th>\n",
       "      <th>currentPosRoll</th>\n",
       "      <th>currentVelRoll</th>\n",
       "      <th>joystickX</th>\n",
       "      <th>peopleName</th>\n",
       "      <th>peopleTrialKey</th>\n",
       "      <th>calculated_vel</th>\n",
       "    </tr>\n",
       "  </thead>\n",
       "  <tbody>\n",
       "    <tr>\n",
       "      <th>381675</th>\n",
       "      <td>0.035</td>\n",
       "      <td>1</td>\n",
       "      <td>-0.681152</td>\n",
       "      <td>0.000000</td>\n",
       "      <td>-0.007751</td>\n",
       "      <td>2_rf_P8/</td>\n",
       "      <td>2_rf_P8/12_600back_Block3_trial_012.csv</td>\n",
       "      <td>0.000000</td>\n",
       "    </tr>\n",
       "    <tr>\n",
       "      <th>381676</th>\n",
       "      <td>0.043</td>\n",
       "      <td>1</td>\n",
       "      <td>-0.681152</td>\n",
       "      <td>0.032186</td>\n",
       "      <td>-0.007751</td>\n",
       "      <td>2_rf_P8/</td>\n",
       "      <td>2_rf_P8/12_600back_Block3_trial_012.csv</td>\n",
       "      <td>0.000000</td>\n",
       "    </tr>\n",
       "    <tr>\n",
       "      <th>381677</th>\n",
       "      <td>0.056</td>\n",
       "      <td>1</td>\n",
       "      <td>-0.681152</td>\n",
       "      <td>0.230669</td>\n",
       "      <td>-0.007751</td>\n",
       "      <td>2_rf_P8/</td>\n",
       "      <td>2_rf_P8/12_600back_Block3_trial_012.csv</td>\n",
       "      <td>0.000000</td>\n",
       "    </tr>\n",
       "    <tr>\n",
       "      <th>381678</th>\n",
       "      <td>0.066</td>\n",
       "      <td>1</td>\n",
       "      <td>-0.681152</td>\n",
       "      <td>0.445246</td>\n",
       "      <td>-0.007751</td>\n",
       "      <td>2_rf_P8/</td>\n",
       "      <td>2_rf_P8/12_600back_Block3_trial_012.csv</td>\n",
       "      <td>0.000000</td>\n",
       "    </tr>\n",
       "    <tr>\n",
       "      <th>381679</th>\n",
       "      <td>0.077</td>\n",
       "      <td>1</td>\n",
       "      <td>-0.681152</td>\n",
       "      <td>0.659822</td>\n",
       "      <td>-0.007751</td>\n",
       "      <td>2_rf_P8/</td>\n",
       "      <td>2_rf_P8/12_600back_Block3_trial_012.csv</td>\n",
       "      <td>0.000000</td>\n",
       "    </tr>\n",
       "    <tr>\n",
       "      <th>...</th>\n",
       "      <td>...</td>\n",
       "      <td>...</td>\n",
       "      <td>...</td>\n",
       "      <td>...</td>\n",
       "      <td>...</td>\n",
       "      <td>...</td>\n",
       "      <td>...</td>\n",
       "      <td>...</td>\n",
       "    </tr>\n",
       "    <tr>\n",
       "      <th>9418906</th>\n",
       "      <td>121.037</td>\n",
       "      <td>3</td>\n",
       "      <td>-8.863220</td>\n",
       "      <td>38.033626</td>\n",
       "      <td>0.000000</td>\n",
       "      <td>1_nr_P25</td>\n",
       "      <td>1_nr_P25/04_600back_Block1_trial_004.csv</td>\n",
       "      <td>35.293579</td>\n",
       "    </tr>\n",
       "    <tr>\n",
       "      <th>9418907</th>\n",
       "      <td>121.058</td>\n",
       "      <td>3</td>\n",
       "      <td>-8.195801</td>\n",
       "      <td>37.620567</td>\n",
       "      <td>0.000000</td>\n",
       "      <td>1_nr_P25</td>\n",
       "      <td>1_nr_P25/04_600back_Block1_trial_004.csv</td>\n",
       "      <td>31.781878</td>\n",
       "    </tr>\n",
       "    <tr>\n",
       "      <th>9418908</th>\n",
       "      <td>121.077</td>\n",
       "      <td>3</td>\n",
       "      <td>-7.456970</td>\n",
       "      <td>36.236551</td>\n",
       "      <td>0.000000</td>\n",
       "      <td>1_nr_P25</td>\n",
       "      <td>1_nr_P25/04_600back_Block1_trial_004.csv</td>\n",
       "      <td>38.885819</td>\n",
       "    </tr>\n",
       "    <tr>\n",
       "      <th>9418909</th>\n",
       "      <td>121.096</td>\n",
       "      <td>3</td>\n",
       "      <td>-6.784058</td>\n",
       "      <td>35.828856</td>\n",
       "      <td>0.000000</td>\n",
       "      <td>1_nr_P25</td>\n",
       "      <td>1_nr_P25/04_600back_Block1_trial_004.csv</td>\n",
       "      <td>35.416453</td>\n",
       "    </tr>\n",
       "    <tr>\n",
       "      <th>9418910</th>\n",
       "      <td>121.117</td>\n",
       "      <td>3</td>\n",
       "      <td>-6.102905</td>\n",
       "      <td>34.745247</td>\n",
       "      <td>0.000000</td>\n",
       "      <td>1_nr_P25</td>\n",
       "      <td>1_nr_P25/04_600back_Block1_trial_004.csv</td>\n",
       "      <td>32.435826</td>\n",
       "    </tr>\n",
       "  </tbody>\n",
       "</table>\n",
       "<p>901756 rows × 8 columns</p>\n",
       "</div>"
      ],
      "text/plain": [
       "         seconds  trialPhase  currentPosRoll  currentVelRoll  joystickX  \\\n",
       "381675     0.035           1       -0.681152        0.000000  -0.007751   \n",
       "381676     0.043           1       -0.681152        0.032186  -0.007751   \n",
       "381677     0.056           1       -0.681152        0.230669  -0.007751   \n",
       "381678     0.066           1       -0.681152        0.445246  -0.007751   \n",
       "381679     0.077           1       -0.681152        0.659822  -0.007751   \n",
       "...          ...         ...             ...             ...        ...   \n",
       "9418906  121.037           3       -8.863220       38.033626   0.000000   \n",
       "9418907  121.058           3       -8.195801       37.620567   0.000000   \n",
       "9418908  121.077           3       -7.456970       36.236551   0.000000   \n",
       "9418909  121.096           3       -6.784058       35.828856   0.000000   \n",
       "9418910  121.117           3       -6.102905       34.745247   0.000000   \n",
       "\n",
       "        peopleName                            peopleTrialKey  calculated_vel  \n",
       "381675    2_rf_P8/   2_rf_P8/12_600back_Block3_trial_012.csv        0.000000  \n",
       "381676    2_rf_P8/   2_rf_P8/12_600back_Block3_trial_012.csv        0.000000  \n",
       "381677    2_rf_P8/   2_rf_P8/12_600back_Block3_trial_012.csv        0.000000  \n",
       "381678    2_rf_P8/   2_rf_P8/12_600back_Block3_trial_012.csv        0.000000  \n",
       "381679    2_rf_P8/   2_rf_P8/12_600back_Block3_trial_012.csv        0.000000  \n",
       "...            ...                                       ...             ...  \n",
       "9418906   1_nr_P25  1_nr_P25/04_600back_Block1_trial_004.csv       35.293579  \n",
       "9418907   1_nr_P25  1_nr_P25/04_600back_Block1_trial_004.csv       31.781878  \n",
       "9418908   1_nr_P25  1_nr_P25/04_600back_Block1_trial_004.csv       38.885819  \n",
       "9418909   1_nr_P25  1_nr_P25/04_600back_Block1_trial_004.csv       35.416453  \n",
       "9418910   1_nr_P25  1_nr_P25/04_600back_Block1_trial_004.csv       32.435826  \n",
       "\n",
       "[901756 rows x 8 columns]"
      ]
     },
     "execution_count": 6,
     "metadata": {},
     "output_type": "execute_result"
    }
   ],
   "source": [
    "good_parts = [\n",
    "    \"1_rf_P8/\",\n",
    "    \"1_fp_P10\",\n",
    "    \"1_bd_P16\",\n",
    "    \"1_nr_P25\",\n",
    "    \"2_rf_P8/\",\n",
    "    \"2_fp_P10\",\n",
    "    \"2_bd_P16\",\n",
    "    \"2_nr_P25\",\n",
    "]\n",
    "df = df[df[\"peopleName\"].isin(good_parts)]\n",
    "df"
   ]
  },
  {
   "cell_type": "code",
   "execution_count": 7,
   "id": "37f362fc",
   "metadata": {
    "scrolled": true
   },
   "outputs": [
    {
     "data": {
      "text/plain": [
       "(8,)"
      ]
     },
     "execution_count": 7,
     "metadata": {},
     "output_type": "execute_result"
    }
   ],
   "source": [
    "df.peopleName.unique().shape"
   ]
  },
  {
   "cell_type": "code",
   "execution_count": 8,
   "id": "31371b91",
   "metadata": {},
   "outputs": [
    {
     "data": {
      "text/plain": [
       "array(['2_rf_P8/', '2_fp_P10', '1_rf_P8/', '2_nr_P25', '1_bd_P16',\n",
       "       '2_bd_P16', '1_fp_P10', '1_nr_P25'], dtype=object)"
      ]
     },
     "execution_count": 8,
     "metadata": {},
     "output_type": "execute_result"
    }
   ],
   "source": [
    "df.peopleName.unique()"
   ]
  },
  {
   "cell_type": "code",
   "execution_count": 9,
   "id": "73a5b35e",
   "metadata": {},
   "outputs": [
    {
     "data": {
      "text/html": [
       "<div>\n",
       "<style scoped>\n",
       "    .dataframe tbody tr th:only-of-type {\n",
       "        vertical-align: middle;\n",
       "    }\n",
       "\n",
       "    .dataframe tbody tr th {\n",
       "        vertical-align: top;\n",
       "    }\n",
       "\n",
       "    .dataframe thead th {\n",
       "        text-align: right;\n",
       "    }\n",
       "</style>\n",
       "<table border=\"1\" class=\"dataframe\">\n",
       "  <thead>\n",
       "    <tr style=\"text-align: right;\">\n",
       "      <th></th>\n",
       "      <th>seconds</th>\n",
       "      <th>trialPhase</th>\n",
       "      <th>currentPosRoll</th>\n",
       "      <th>currentVelRoll</th>\n",
       "      <th>joystickX</th>\n",
       "      <th>peopleName</th>\n",
       "      <th>peopleTrialKey</th>\n",
       "      <th>calculated_vel</th>\n",
       "      <th>x_value</th>\n",
       "      <th>y_value</th>\n",
       "      <th>velRads</th>\n",
       "    </tr>\n",
       "  </thead>\n",
       "  <tbody>\n",
       "    <tr>\n",
       "      <th>383175</th>\n",
       "      <td>31.330</td>\n",
       "      <td>3</td>\n",
       "      <td>4.460449</td>\n",
       "      <td>2.735846</td>\n",
       "      <td>-0.153198</td>\n",
       "      <td>2_rf_P8/</td>\n",
       "      <td>2_rf_P8/12_600back_Block3_trial_012.csv</td>\n",
       "      <td>10.736639</td>\n",
       "      <td>0.996971</td>\n",
       "      <td>0.077771</td>\n",
       "      <td>0.047750</td>\n",
       "    </tr>\n",
       "    <tr>\n",
       "      <th>383176</th>\n",
       "      <td>31.350</td>\n",
       "      <td>3</td>\n",
       "      <td>4.691162</td>\n",
       "      <td>2.210135</td>\n",
       "      <td>-0.153198</td>\n",
       "      <td>2_rf_P8/</td>\n",
       "      <td>2_rf_P8/12_600back_Block3_trial_012.csv</td>\n",
       "      <td>11.535645</td>\n",
       "      <td>0.996650</td>\n",
       "      <td>0.081785</td>\n",
       "      <td>0.038574</td>\n",
       "    </tr>\n",
       "    <tr>\n",
       "      <th>383177</th>\n",
       "      <td>31.370</td>\n",
       "      <td>3</td>\n",
       "      <td>4.886169</td>\n",
       "      <td>0.708101</td>\n",
       "      <td>-0.145142</td>\n",
       "      <td>2_rf_P8/</td>\n",
       "      <td>2_rf_P8/12_600back_Block3_trial_012.csv</td>\n",
       "      <td>9.750366</td>\n",
       "      <td>0.996366</td>\n",
       "      <td>0.085176</td>\n",
       "      <td>0.012359</td>\n",
       "    </tr>\n",
       "    <tr>\n",
       "      <th>383178</th>\n",
       "      <td>31.390</td>\n",
       "      <td>3</td>\n",
       "      <td>5.067444</td>\n",
       "      <td>-0.600813</td>\n",
       "      <td>-0.145142</td>\n",
       "      <td>2_rf_P8/</td>\n",
       "      <td>2_rf_P8/12_600back_Block3_trial_012.csv</td>\n",
       "      <td>9.063721</td>\n",
       "      <td>0.996091</td>\n",
       "      <td>0.088328</td>\n",
       "      <td>-0.010486</td>\n",
       "    </tr>\n",
       "    <tr>\n",
       "      <th>383179</th>\n",
       "      <td>31.411</td>\n",
       "      <td>3</td>\n",
       "      <td>5.226746</td>\n",
       "      <td>-1.158711</td>\n",
       "      <td>-0.145142</td>\n",
       "      <td>2_rf_P8/</td>\n",
       "      <td>2_rf_P8/12_600back_Block3_trial_012.csv</td>\n",
       "      <td>7.585798</td>\n",
       "      <td>0.995842</td>\n",
       "      <td>0.091097</td>\n",
       "      <td>-0.020223</td>\n",
       "    </tr>\n",
       "    <tr>\n",
       "      <th>383180</th>\n",
       "      <td>31.432</td>\n",
       "      <td>3</td>\n",
       "      <td>5.372314</td>\n",
       "      <td>-2.403253</td>\n",
       "      <td>-0.145142</td>\n",
       "      <td>2_rf_P8/</td>\n",
       "      <td>2_rf_P8/12_600back_Block3_trial_012.csv</td>\n",
       "      <td>6.931850</td>\n",
       "      <td>0.995607</td>\n",
       "      <td>0.093627</td>\n",
       "      <td>-0.041945</td>\n",
       "    </tr>\n",
       "    <tr>\n",
       "      <th>383181</th>\n",
       "      <td>31.454</td>\n",
       "      <td>3</td>\n",
       "      <td>5.504150</td>\n",
       "      <td>-2.832405</td>\n",
       "      <td>-0.145142</td>\n",
       "      <td>2_rf_P8/</td>\n",
       "      <td>2_rf_P8/12_600back_Block3_trial_012.csv</td>\n",
       "      <td>5.992543</td>\n",
       "      <td>0.995389</td>\n",
       "      <td>0.095918</td>\n",
       "      <td>-0.049435</td>\n",
       "    </tr>\n",
       "    <tr>\n",
       "      <th>383182</th>\n",
       "      <td>31.473</td>\n",
       "      <td>3</td>\n",
       "      <td>5.625000</td>\n",
       "      <td>-3.991117</td>\n",
       "      <td>-0.145142</td>\n",
       "      <td>2_rf_P8/</td>\n",
       "      <td>2_rf_P8/12_600back_Block3_trial_012.csv</td>\n",
       "      <td>6.360506</td>\n",
       "      <td>0.995185</td>\n",
       "      <td>0.098017</td>\n",
       "      <td>-0.069658</td>\n",
       "    </tr>\n",
       "    <tr>\n",
       "      <th>383183</th>\n",
       "      <td>31.494</td>\n",
       "      <td>3</td>\n",
       "      <td>5.715637</td>\n",
       "      <td>-4.334439</td>\n",
       "      <td>-0.145142</td>\n",
       "      <td>2_rf_P8/</td>\n",
       "      <td>2_rf_P8/12_600back_Block3_trial_012.csv</td>\n",
       "      <td>4.316057</td>\n",
       "      <td>0.995028</td>\n",
       "      <td>0.099591</td>\n",
       "      <td>-0.075650</td>\n",
       "    </tr>\n",
       "    <tr>\n",
       "      <th>383184</th>\n",
       "      <td>31.514</td>\n",
       "      <td>3</td>\n",
       "      <td>5.789795</td>\n",
       "      <td>-5.664811</td>\n",
       "      <td>-0.145142</td>\n",
       "      <td>2_rf_P8/</td>\n",
       "      <td>2_rf_P8/12_600back_Block3_trial_012.csv</td>\n",
       "      <td>3.707886</td>\n",
       "      <td>0.994899</td>\n",
       "      <td>0.100879</td>\n",
       "      <td>-0.098870</td>\n",
       "    </tr>\n",
       "  </tbody>\n",
       "</table>\n",
       "</div>"
      ],
      "text/plain": [
       "        seconds  trialPhase  currentPosRoll  currentVelRoll  joystickX  \\\n",
       "383175   31.330           3        4.460449        2.735846  -0.153198   \n",
       "383176   31.350           3        4.691162        2.210135  -0.153198   \n",
       "383177   31.370           3        4.886169        0.708101  -0.145142   \n",
       "383178   31.390           3        5.067444       -0.600813  -0.145142   \n",
       "383179   31.411           3        5.226746       -1.158711  -0.145142   \n",
       "383180   31.432           3        5.372314       -2.403253  -0.145142   \n",
       "383181   31.454           3        5.504150       -2.832405  -0.145142   \n",
       "383182   31.473           3        5.625000       -3.991117  -0.145142   \n",
       "383183   31.494           3        5.715637       -4.334439  -0.145142   \n",
       "383184   31.514           3        5.789795       -5.664811  -0.145142   \n",
       "\n",
       "       peopleName                           peopleTrialKey  calculated_vel  \\\n",
       "383175   2_rf_P8/  2_rf_P8/12_600back_Block3_trial_012.csv       10.736639   \n",
       "383176   2_rf_P8/  2_rf_P8/12_600back_Block3_trial_012.csv       11.535645   \n",
       "383177   2_rf_P8/  2_rf_P8/12_600back_Block3_trial_012.csv        9.750366   \n",
       "383178   2_rf_P8/  2_rf_P8/12_600back_Block3_trial_012.csv        9.063721   \n",
       "383179   2_rf_P8/  2_rf_P8/12_600back_Block3_trial_012.csv        7.585798   \n",
       "383180   2_rf_P8/  2_rf_P8/12_600back_Block3_trial_012.csv        6.931850   \n",
       "383181   2_rf_P8/  2_rf_P8/12_600back_Block3_trial_012.csv        5.992543   \n",
       "383182   2_rf_P8/  2_rf_P8/12_600back_Block3_trial_012.csv        6.360506   \n",
       "383183   2_rf_P8/  2_rf_P8/12_600back_Block3_trial_012.csv        4.316057   \n",
       "383184   2_rf_P8/  2_rf_P8/12_600back_Block3_trial_012.csv        3.707886   \n",
       "\n",
       "         x_value   y_value   velRads  \n",
       "383175  0.996971  0.077771  0.047750  \n",
       "383176  0.996650  0.081785  0.038574  \n",
       "383177  0.996366  0.085176  0.012359  \n",
       "383178  0.996091  0.088328 -0.010486  \n",
       "383179  0.995842  0.091097 -0.020223  \n",
       "383180  0.995607  0.093627 -0.041945  \n",
       "383181  0.995389  0.095918 -0.049435  \n",
       "383182  0.995185  0.098017 -0.069658  \n",
       "383183  0.995028  0.099591 -0.075650  \n",
       "383184  0.994899  0.100879 -0.098870  "
      ]
     },
     "execution_count": 9,
     "metadata": {},
     "output_type": "execute_result"
    }
   ],
   "source": [
    "# https://sparkbyexamples.com/pandas/pandas-add-column-based-on-another-column/\n",
    "\n",
    "df = df.assign(x_value=lambda x: np.cos(np.radians(x.currentPosRoll)))\n",
    "df = df.assign(y_value=lambda y: np.sin(np.radians(y.currentPosRoll)))\n",
    "df = df.assign(velRads=lambda rad: np.radians(rad.currentVelRoll))\n",
    "df[\"joystickX\"] = df[\"joystickX\"].apply(\n",
    "    lambda x: x * -1\n",
    ")  # multiply joystick by -1, per dataset instructions\n",
    "df.iloc[1500:1510, :]"
   ]
  },
  {
   "cell_type": "code",
   "execution_count": 10,
   "id": "8c2a42be",
   "metadata": {},
   "outputs": [
    {
     "data": {
      "text/plain": [
       "(160,)"
      ]
     },
     "execution_count": 10,
     "metadata": {},
     "output_type": "execute_result"
    }
   ],
   "source": [
    "trials = df.peopleTrialKey.unique()\n",
    "trials.shape"
   ]
  },
  {
   "cell_type": "code",
   "execution_count": 12,
   "id": "40f5d37d",
   "metadata": {
    "scrolled": true
   },
   "outputs": [
    {
     "name": "stderr",
     "output_type": "stream",
     "text": [
      " 19%|███████▉                                  | 30/160 [00:01<00:07, 17.62it/s]"
     ]
    },
    {
     "name": "stdout",
     "output_type": "stream",
     "text": [
      "changed\n",
      "changed\n"
     ]
    },
    {
     "name": "stderr",
     "output_type": "stream",
     "text": [
      " 32%|█████████████▍                            | 51/160 [00:02<00:05, 20.14it/s]"
     ]
    },
    {
     "name": "stdout",
     "output_type": "stream",
     "text": [
      "changed\n",
      "changed\n",
      "changed\n",
      "changed\n",
      "changed\n"
     ]
    },
    {
     "name": "stderr",
     "output_type": "stream",
     "text": [
      " 39%|████████████████▌                         | 63/160 [00:03<00:05, 19.12it/s]"
     ]
    },
    {
     "name": "stdout",
     "output_type": "stream",
     "text": [
      "changed\n",
      "changed\n",
      "changed\n"
     ]
    },
    {
     "name": "stderr",
     "output_type": "stream",
     "text": [
      " 45%|██████████████████▉                       | 72/160 [00:03<00:04, 20.29it/s]"
     ]
    },
    {
     "name": "stdout",
     "output_type": "stream",
     "text": [
      "changed\n",
      "changed\n"
     ]
    },
    {
     "name": "stderr",
     "output_type": "stream",
     "text": [
      " 52%|██████████████████████                    | 84/160 [00:04<00:03, 19.01it/s]"
     ]
    },
    {
     "name": "stdout",
     "output_type": "stream",
     "text": [
      "changed\n",
      "changed\n",
      "changed\n",
      "changed\n",
      "changed\n",
      "changed\n",
      "changed\n",
      "changed\n",
      "changed\n",
      "changed\n",
      "changed\n",
      "changed\n",
      "changed\n"
     ]
    },
    {
     "name": "stderr",
     "output_type": "stream",
     "text": [
      " 56%|███████████████████████▋                  | 90/160 [00:04<00:03, 20.06it/s]"
     ]
    },
    {
     "name": "stdout",
     "output_type": "stream",
     "text": [
      "changed\n",
      "changed\n",
      "changed\n",
      "changed\n",
      "changed\n",
      "changed\n",
      "changed\n",
      "changed\n",
      "changed\n",
      "changed\n",
      "changed\n",
      "changed\n",
      "changed\n",
      "changed\n",
      "changed\n",
      "changed\n",
      "changed\n",
      "changed\n",
      "changed\n",
      "changed\n",
      "changed\n",
      "changed\n",
      "changed\n",
      "changed\n",
      "changed\n"
     ]
    },
    {
     "name": "stderr",
     "output_type": "stream",
     "text": [
      "\r\n",
      " 58%|████████████████████████▍                 | 93/160 [00:04<00:03, 20.41it/s]"
     ]
    },
    {
     "name": "stdout",
     "output_type": "stream",
     "text": [
      "changed\n"
     ]
    },
    {
     "name": "stderr",
     "output_type": "stream",
     "text": [
      " 62%|█████████████████████████▉                | 99/160 [00:05<00:03, 16.80it/s]"
     ]
    },
    {
     "name": "stdout",
     "output_type": "stream",
     "text": [
      "changed\n",
      "changed\n",
      "changed\n",
      "changed\n",
      "changed\n",
      "changed\n",
      "changed\n",
      "changed\n",
      "changed\n",
      "changed\n",
      "changed\n"
     ]
    },
    {
     "name": "stderr",
     "output_type": "stream",
     "text": [
      " 68%|███████████████████████████▋             | 108/160 [00:05<00:02, 19.60it/s]"
     ]
    },
    {
     "name": "stdout",
     "output_type": "stream",
     "text": [
      "changed\n",
      "changed\n"
     ]
    },
    {
     "name": "stderr",
     "output_type": "stream",
     "text": [
      " 79%|████████████████████████████████▎        | 126/160 [00:06<00:02, 16.43it/s]"
     ]
    },
    {
     "name": "stdout",
     "output_type": "stream",
     "text": [
      "changed\n",
      "changed\n",
      "changed\n",
      "changed\n",
      "changed\n",
      "changed\n",
      "changed\n",
      "changed\n",
      "changed\n",
      "changed\n"
     ]
    },
    {
     "name": "stderr",
     "output_type": "stream",
     "text": [
      " 82%|█████████████████████████████████▊       | 132/160 [00:07<00:01, 18.51it/s]"
     ]
    },
    {
     "name": "stdout",
     "output_type": "stream",
     "text": [
      "changed\n",
      "changed\n",
      "changed\n",
      "changed\n",
      "changed\n",
      "changed\n",
      "changed\n",
      "changed\n",
      "changed\n",
      "changed\n",
      "changed\n",
      "changed\n",
      "changed\n",
      "changed\n",
      "changed\n",
      "changed\n"
     ]
    },
    {
     "name": "stderr",
     "output_type": "stream",
     "text": [
      " 86%|███████████████████████████████████▎     | 138/160 [00:07<00:01, 19.87it/s]"
     ]
    },
    {
     "name": "stdout",
     "output_type": "stream",
     "text": [
      "changed\n",
      "changed\n",
      "changed\n",
      "changed\n",
      "changed\n",
      "changed\n",
      "changed\n",
      "changed\n",
      "changed\n",
      "changed\n",
      "changed\n",
      "changed\n"
     ]
    },
    {
     "name": "stderr",
     "output_type": "stream",
     "text": [
      " 92%|█████████████████████████████████████▋   | 147/160 [00:07<00:00, 20.45it/s]"
     ]
    },
    {
     "name": "stdout",
     "output_type": "stream",
     "text": [
      "changed\n",
      "changed\n",
      "changed\n",
      "changed\n",
      "changed\n",
      "changed\n",
      "changed\n",
      "changed\n",
      "changed\n",
      "changed\n",
      "changed\n",
      "changed\n",
      "changed\n",
      "changed\n",
      "changed\n",
      "changed\n",
      "changed\n",
      "changed\n",
      "changed\n",
      "changed\n",
      "changed\n",
      "changed\n",
      "changed\n",
      "changed\n",
      "changed\n"
     ]
    },
    {
     "name": "stderr",
     "output_type": "stream",
     "text": [
      " 96%|███████████████████████████████████████▏ | 153/160 [00:08<00:00, 20.65it/s]"
     ]
    },
    {
     "name": "stdout",
     "output_type": "stream",
     "text": [
      "changed\n",
      "changed\n",
      "changed\n",
      "changed\n",
      "changed\n",
      "changed\n",
      "changed\n",
      "changed\n",
      "changed\n",
      "changed\n",
      "changed\n",
      "changed\n",
      "changed\n",
      "changed\n",
      "changed\n",
      "changed\n",
      "changed\n",
      "changed\n",
      "changed\n",
      "changed\n",
      "changed\n",
      "changed\n",
      "changed\n",
      "changed\n",
      "changed\n",
      "changed\n",
      "changed\n",
      "changed\n"
     ]
    },
    {
     "name": "stderr",
     "output_type": "stream",
     "text": [
      "\r\n",
      " 98%|███████████████████████████████████████▉ | 156/160 [00:08<00:00, 20.70it/s]"
     ]
    },
    {
     "name": "stdout",
     "output_type": "stream",
     "text": [
      "changed\n",
      "changed\n",
      "changed\n",
      "changed\n",
      "changed\n",
      "changed\n",
      "changed\n",
      "changed\n",
      "changed\n",
      "changed\n",
      "changed\n"
     ]
    },
    {
     "name": "stderr",
     "output_type": "stream",
     "text": [
      "100%|█████████████████████████████████████████| 160/160 [00:08<00:00, 18.42it/s]"
     ]
    },
    {
     "name": "stdout",
     "output_type": "stream",
     "text": [
      "changed\n",
      "changed\n",
      "changed\n",
      "changed\n",
      "changed\n",
      "changed\n",
      "changed\n",
      "changed\n",
      "changed\n",
      "changed\n",
      "changed\n"
     ]
    },
    {
     "name": "stderr",
     "output_type": "stream",
     "text": [
      "\n"
     ]
    }
   ],
   "source": [
    "# class imitation.data.types.Transitions(obs, acts, infos, next_obs, dones)\n",
    "from tqdm import tqdm\n",
    "\n",
    "# expert_set = []\n",
    "obs, acts, infos, next_obs, dones = [], [], [], [], []\n",
    "count = 0\n",
    "for trial in tqdm(trials):\n",
    "    #     if count == 1:\n",
    "    #         break\n",
    "    #     count += 1\n",
    "    temp_data = df[df[\"peopleTrialKey\"] == trial].sort_values([\"seconds\"]).values\n",
    "    for currow, nxtrow in zip(temp_data, temp_data[1:]):\n",
    "        if currow[1] == 3:\n",
    "            #             print(currow)\n",
    "            ob = [currow[8], currow[9], currow[10]]\n",
    "            act = currow[4]\n",
    "            next_ob = [nxtrow[8], nxtrow[9], nxtrow[10]]\n",
    "            #             info = {}\n",
    "            if nxtrow[1] != 3:\n",
    "                print(\"changed\")\n",
    "                done = True\n",
    "            else:\n",
    "                done = False\n",
    "            #             expert_set.append([obs,acts,infos,next_obs,done])\n",
    "            obs.append(ob)\n",
    "            acts.append(act)\n",
    "            infos.append({})\n",
    "            next_obs.append(next_ob)\n",
    "            dones.append(done)\n",
    "# print(expert_set)"
   ]
  },
  {
   "cell_type": "code",
   "execution_count": 17,
   "id": "cd21abd3",
   "metadata": {},
   "outputs": [
    {
     "data": {
      "text/plain": [
       "(756785, 1)"
      ]
     },
     "execution_count": 17,
     "metadata": {},
     "output_type": "execute_result"
    }
   ],
   "source": [
    "new_acts = np.array(acts).reshape(-1, 1)\n",
    "new_acts.shape"
   ]
  },
  {
   "cell_type": "code",
   "execution_count": 18,
   "id": "ece42242",
   "metadata": {},
   "outputs": [],
   "source": [
    "from imitation.data.types import Transitions\n",
    "\n",
    "demos = Transitions(\n",
    "    np.array(obs), new_acts, np.array(infos), np.array(next_obs), np.array(dones)\n",
    ")"
   ]
  },
  {
   "cell_type": "code",
   "execution_count": 19,
   "id": "bb1e29cf",
   "metadata": {},
   "outputs": [
    {
     "data": {
      "text/plain": [
       "Transitions(obs=array([[ 0.99998828, -0.00484161,  0.        ],\n",
       "       [ 0.99999028, -0.00441018,  0.        ],\n",
       "       [ 0.99999227, -0.00393082, -0.00898815],\n",
       "       ...,\n",
       "       [ 0.98978668, -0.14255639,  0.65660276],\n",
       "       [ 0.99154261, -0.12978157,  0.63244712],\n",
       "       [ 0.99299842, -0.11812767,  0.6253315 ]]), acts=array([[ 0.007751],\n",
       "       [ 0.007751],\n",
       "       [ 0.007751],\n",
       "       ...,\n",
       "       [-0.      ],\n",
       "       [-0.      ],\n",
       "       [-0.      ]]), infos=array([{}, {}, {}, ..., {}, {}, {}], dtype=object), next_obs=array([[ 0.99999028, -0.00441018,  0.        ],\n",
       "       [ 0.99999227, -0.00393082, -0.00898815],\n",
       "       [ 0.99999371, -0.00354732, -0.00898815],\n",
       "       ...,\n",
       "       [ 0.99154261, -0.12978157,  0.63244712],\n",
       "       [ 0.99299842, -0.11812767,  0.6253315 ],\n",
       "       [ 0.99433255, -0.10631449,  0.60641896]]), dones=array([False, False, False, ..., False, False, False]))"
      ]
     },
     "execution_count": 19,
     "metadata": {},
     "output_type": "execute_result"
    }
   ],
   "source": [
    "demos"
   ]
  },
  {
   "cell_type": "code",
   "execution_count": 20,
   "id": "22ecae5a",
   "metadata": {},
   "outputs": [],
   "source": [
    "import pickle\n",
    "\n",
    "file = open(\"MARS_AIRL_expert_transitions\", \"wb\")\n",
    "pickle.dump(demos, file)\n",
    "file.close()"
   ]
  },
  {
   "cell_type": "code",
   "execution_count": 21,
   "id": "76dad579",
   "metadata": {},
   "outputs": [],
   "source": [
    "file2 = open(\"MARS_AIRL_expert_transitions\", \"rb\")\n",
    "data = pickle.load(file2)\n",
    "file2.close()"
   ]
  },
  {
   "cell_type": "code",
   "execution_count": 22,
   "id": "3edda973",
   "metadata": {},
   "outputs": [
    {
     "data": {
      "text/plain": [
       "Transitions(obs=array([[ 0.99998828, -0.00484161,  0.        ],\n",
       "       [ 0.99999028, -0.00441018,  0.        ],\n",
       "       [ 0.99999227, -0.00393082, -0.00898815],\n",
       "       ...,\n",
       "       [ 0.98978668, -0.14255639,  0.65660276],\n",
       "       [ 0.99154261, -0.12978157,  0.63244712],\n",
       "       [ 0.99299842, -0.11812767,  0.6253315 ]]), acts=array([[ 0.007751],\n",
       "       [ 0.007751],\n",
       "       [ 0.007751],\n",
       "       ...,\n",
       "       [-0.      ],\n",
       "       [-0.      ],\n",
       "       [-0.      ]]), infos=array([{}, {}, {}, ..., {}, {}, {}], dtype=object), next_obs=array([[ 0.99999028, -0.00441018,  0.        ],\n",
       "       [ 0.99999227, -0.00393082, -0.00898815],\n",
       "       [ 0.99999371, -0.00354732, -0.00898815],\n",
       "       ...,\n",
       "       [ 0.99154261, -0.12978157,  0.63244712],\n",
       "       [ 0.99299842, -0.11812767,  0.6253315 ],\n",
       "       [ 0.99433255, -0.10631449,  0.60641896]]), dones=array([False, False, False, ..., False, False, False]))"
      ]
     },
     "execution_count": 22,
     "metadata": {},
     "output_type": "execute_result"
    }
   ],
   "source": [
    "data"
   ]
  },
  {
   "cell_type": "code",
   "execution_count": 49,
   "id": "b7f28d93",
   "metadata": {},
   "outputs": [
    {
     "data": {
      "text/plain": [
       "imitation.data.types.Transitions"
      ]
     },
     "execution_count": 49,
     "metadata": {},
     "output_type": "execute_result"
    }
   ],
   "source": [
    "type(data)"
   ]
  },
  {
   "cell_type": "code",
   "execution_count": null,
   "id": "adf728e4",
   "metadata": {},
   "outputs": [],
   "source": []
  }
 ],
 "metadata": {
  "kernelspec": {
   "display_name": "Python 3 (ipykernel)",
   "language": "python",
   "name": "python3"
  },
  "language_info": {
   "codemirror_mode": {
    "name": "ipython",
    "version": 3
   },
   "file_extension": ".py",
   "mimetype": "text/x-python",
   "name": "python",
   "nbconvert_exporter": "python",
   "pygments_lexer": "ipython3",
   "version": "3.9.17"
  }
 },
 "nbformat": 4,
 "nbformat_minor": 5
}
